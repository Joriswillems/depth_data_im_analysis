{
 "cells": [
  {
   "cell_type": "markdown",
   "metadata": {
    "colab_type": "text",
    "id": "view-in-github"
   },
   "source": [
    "<a href=\"https://colab.research.google.com/github/Joriswillems/socioPhysicsTUe/blob/master/sociophysicsDataHandler.ipynb\" target=\"_parent\"><img src=\"https://colab.research.google.com/assets/colab-badge.svg\" alt=\"Open In Colab\"/></a>"
   ]
  },
  {
   "cell_type": "markdown",
   "metadata": {
    "colab_type": "text",
    "id": "VYuYhWT29T8_"
   },
   "source": [
    "# This Colab will explain how to install and use the SociophysicsDataHandler package"
   ]
  },
  {
   "cell_type": "markdown",
   "metadata": {
    "colab_type": "text",
    "id": "HciEOBp39NcP"
   },
   "source": [
    "First, you need to install the SociophysicsDataHandler package"
   ]
  },
  {
   "cell_type": "code",
   "execution_count": 1,
   "metadata": {
    "colab": {
     "base_uri": "https://localhost:8080/",
     "height": 52
    },
    "colab_type": "code",
    "id": "nnEIMkWe80G-",
    "outputId": "f92d5c0f-a1bd-4c0c-9931-d8ea766196a9"
   },
   "outputs": [],
   "source": [
    "!pip install -q sociophysicsDataHandler "
   ]
  },
  {
   "cell_type": "markdown",
   "metadata": {
    "colab_type": "text",
    "id": "o-Sn9lHQ9hVM"
   },
   "source": [
    "Next, you need to load the package you just installed"
   ]
  },
  {
   "cell_type": "code",
   "execution_count": 2,
   "metadata": {
    "colab": {},
    "colab_type": "code",
    "id": "nvTpzEnv83mI"
   },
   "outputs": [],
   "source": [
    "from sociophysicsDataHandler import SociophysicsDataHandler"
   ]
  },
  {
   "cell_type": "markdown",
   "metadata": {
    "colab_type": "text",
    "id": "4jIZRT0y9n65"
   },
   "source": [
    "For the next step you need to generate credentials for Research Drive. You can find a guide to make these credentials in the file 'Course tools - manual for students'. When the credentials are correctly added to the 'auth.txt' file you can make a datahandler object which we will call dh."
   ]
  },
  {
   "cell_type": "code",
   "execution_count": 4,
   "metadata": {
    "colab": {},
    "colab_type": "code",
    "id": "kEdq9amo9ITp"
   },
   "outputs": [],
   "source": [
    "dh = SociophysicsDataHandler()"
   ]
  },
  {
   "cell_type": "markdown",
   "metadata": {
    "colab_type": "text",
    "id": "JnSre7rl95Ij"
   },
   "source": [
    "List all the files on the research drive with the following command."
   ]
  },
  {
   "cell_type": "code",
   "execution_count": 5,
   "metadata": {
    "colab": {
     "base_uri": "https://localhost:8080/"
    },
    "colab_type": "code",
    "id": "PcQ86AzS9EF_",
    "outputId": "3e2e1e97-2eb8-430e-df7a-0fc1d464dd49"
   },
   "outputs": [
    {
     "name": "stdout",
     "output_type": "stream",
     "text": [
      "Folder  contains the following files and/or folders:\n",
      "Folder: asdz\n",
      "\n",
      "Folder asdz contains the following files and/or folders:\n",
      "Folder: background_images\n",
      "\n",
      "Folder asdz/background_images contains the following files and/or folders:\n",
      "  File: asdz-platform2.1-stairs.bmp\n",
      "  File: asdz-platform2.2-esc.bmp\n",
      "\n",
      "\n",
      "Folder: platform2.1\n",
      "\n",
      "Folder asdz/platform2.1 contains the following files and/or folders:\n",
      "Folder: 20200428\n",
      "\n",
      "Folder asdz/platform2.1/20200428 contains the following files and/or folders:\n",
      "  File: ASDZ_Perron2.1_2020042800_trajectorie.parquet\n",
      "  File: ASDZ_Perron2.1_2020042801_trajectorie.parquet\n",
      "  File: ASDZ_Perron2.1_2020042802_trajectorie.parquet\n",
      "  File: ASDZ_Perron2.1_2020042803_trajectorie.parquet\n",
      "  File: ASDZ_Perron2.1_2020042804_trajectorie.parquet\n",
      "  File: ASDZ_Perron2.1_2020042805_trajectorie.parquet\n",
      "  File: ASDZ_Perron2.1_2020042806_trajectorie.parquet\n",
      "  File: ASDZ_Perron2.1_2020042807_trajectorie.parquet\n",
      "  File: ASDZ_Perron2.1_2020042808_trajectorie.parquet\n",
      "  File: ASDZ_Perron2.1_2020042809_trajectorie.parquet\n",
      "  File: ASDZ_Perron2.1_2020042810_trajectorie.parquet\n",
      "  File: ASDZ_Perron2.1_2020042811_trajectorie.parquet\n",
      "  File: ASDZ_Perron2.1_2020042812_trajectorie.parquet\n",
      "  File: ASDZ_Perron2.1_2020042813_trajectorie.parquet\n",
      "  File: ASDZ_Perron2.1_2020042814_trajectorie.parquet\n",
      "  File: ASDZ_Perron2.1_2020042815_trajectorie.parquet\n",
      "  File: ASDZ_Perron2.1_2020042816_trajectorie.parquet\n",
      "  File: ASDZ_Perron2.1_2020042817_trajectorie.parquet\n",
      "  File: ASDZ_Perron2.1_2020042818_trajectorie.parquet\n",
      "  File: ASDZ_Perron2.1_2020042819_trajectorie.parquet\n",
      "  File: ASDZ_Perron2.1_2020042820_trajectorie.parquet\n",
      "  File: ASDZ_Perron2.1_2020042821_trajectorie.parquet\n",
      "  File: ASDZ_Perron2.1_2020042822_trajectorie.parquet\n",
      "  File: ASDZ_Perron2.1_2020042823_trajectorie.parquet\n",
      "\n",
      "\n",
      "Folder: platform2.2\n",
      "\n",
      "Folder asdz/platform2.2 contains the following files and/or folders:\n",
      "Folder: 20200428\n",
      "\n",
      "Folder asdz/platform2.2/20200428 contains the following files and/or folders:\n",
      "  File: ASDZ_Perron2.2_2020042800_trajectorie.parquet\n",
      "  File: ASDZ_Perron2.2_2020042801_trajectorie.parquet\n",
      "  File: ASDZ_Perron2.2_2020042802_trajectorie.parquet\n",
      "  File: ASDZ_Perron2.2_2020042803_trajectorie.parquet\n",
      "  File: ASDZ_Perron2.2_2020042804_trajectorie.parquet\n",
      "  File: ASDZ_Perron2.2_2020042805_trajectorie.parquet\n",
      "  File: ASDZ_Perron2.2_2020042806_trajectorie.parquet\n",
      "  File: ASDZ_Perron2.2_2020042807_trajectorie.parquet\n",
      "  File: ASDZ_Perron2.2_2020042808_trajectorie.parquet\n",
      "  File: ASDZ_Perron2.2_2020042809_trajectorie.parquet\n",
      "  File: ASDZ_Perron2.2_2020042810_trajectorie.parquet\n",
      "  File: ASDZ_Perron2.2_2020042811_trajectorie.parquet\n",
      "  File: ASDZ_Perron2.2_2020042812_trajectorie.parquet\n",
      "  File: ASDZ_Perron2.2_2020042813_trajectorie.parquet\n",
      "  File: ASDZ_Perron2.2_2020042814_trajectorie.parquet\n",
      "  File: ASDZ_Perron2.2_2020042815_trajectorie.parquet\n",
      "  File: ASDZ_Perron2.2_2020042816_trajectorie.parquet\n",
      "  File: ASDZ_Perron2.2_2020042817_trajectorie.parquet\n",
      "  File: ASDZ_Perron2.2_2020042818_trajectorie.parquet\n",
      "  File: ASDZ_Perron2.2_2020042819_trajectorie.parquet\n",
      "  File: ASDZ_Perron2.2_2020042820_trajectorie.parquet\n",
      "  File: ASDZ_Perron2.2_2020042821_trajectorie.parquet\n",
      "  File: ASDZ_Perron2.2_2020042822_trajectorie.parquet\n",
      "  File: ASDZ_Perron2.2_2020042823_trajectorie.parquet\n",
      "\n",
      "\n",
      "Folder: depth_kinect_glow\n",
      "\n",
      "Folder depth_kinect_glow contains the following files and/or folders:\n",
      "  File: 17.11.11-15-53-28_2017-11-11_20-25-41.262248_9d6c8ecc-8253-4578-9714-1691ba5596cd_00000264_475993.tar.json.gz\n",
      "\n",
      "\n",
      "Folder: depth_kinect_glow17\n",
      "\n",
      "Folder depth_kinect_glow17 contains the following files and/or folders:\n",
      "  File: 17.11.11-15-53-28_2017-11-11_20-25-41.262248_9d6c8ecc-8253-4578-9714-1691ba5596cd_00000264_475993.tar.json.gz\n",
      "  File: background.tar.json.gz\n",
      "\n",
      "\n"
     ]
    }
   ],
   "source": [
    "dh.print_files('')"
   ]
  },
  {
   "cell_type": "markdown",
   "metadata": {
    "colab_type": "text",
    "id": "ONefS_Ua-M3q"
   },
   "source": [
    "One of the trajectory data files can be loaded as follows"
   ]
  },
  {
   "cell_type": "code",
   "execution_count": 6,
   "metadata": {
    "colab": {
     "base_uri": "https://localhost:8080/",
     "height": 53
    },
    "colab_type": "code",
    "id": "o0wxywZw835q",
    "outputId": "f8eea0ba-027e-4f86-b465-60e9f0896972"
   },
   "outputs": [
    {
     "name": "stdout",
     "output_type": "stream",
     "text": [
      "trying to fetch: /ProRail_USE_LL_data/asdz/platform2.1/20200428/ASDZ_Perron2.1_2020042809_trajectorie.parquet\n",
      "data fetched. Accessible as <this-object>.df\n"
     ]
    }
   ],
   "source": [
    "dh.fetch_prorail_data_from_path('asdz/platform2.1/20200428/ASDZ_Perron2.1_2020042809_trajectorie.parquet' )"
   ]
  },
  {
   "cell_type": "code",
   "execution_count": 7,
   "metadata": {
    "colab": {
     "base_uri": "https://localhost:8080/",
     "height": 424
    },
    "colab_type": "code",
    "id": "Xdq58B7G834K",
    "outputId": "bd57995e-e33e-4cce-d3b1-3592fd9315b0"
   },
   "outputs": [
    {
     "data": {
      "text/html": [
       "<div>\n",
       "<style scoped>\n",
       "    .dataframe tbody tr th:only-of-type {\n",
       "        vertical-align: middle;\n",
       "    }\n",
       "\n",
       "    .dataframe tbody tr th {\n",
       "        vertical-align: top;\n",
       "    }\n",
       "\n",
       "    .dataframe thead th {\n",
       "        text-align: right;\n",
       "    }\n",
       "</style>\n",
       "<table border=\"1\" class=\"dataframe\">\n",
       "  <thead>\n",
       "    <tr style=\"text-align: right;\">\n",
       "      <th></th>\n",
       "      <th>date_time_utc</th>\n",
       "      <th>tracked_object</th>\n",
       "      <th>x_pos</th>\n",
       "      <th>y_pos</th>\n",
       "    </tr>\n",
       "  </thead>\n",
       "  <tbody>\n",
       "    <tr>\n",
       "      <th>0</th>\n",
       "      <td>1.588065e+12</td>\n",
       "      <td>23323</td>\n",
       "      <td>914.0</td>\n",
       "      <td>2011.0</td>\n",
       "    </tr>\n",
       "    <tr>\n",
       "      <th>1</th>\n",
       "      <td>1.588065e+12</td>\n",
       "      <td>23323</td>\n",
       "      <td>832.0</td>\n",
       "      <td>1808.0</td>\n",
       "    </tr>\n",
       "    <tr>\n",
       "      <th>2</th>\n",
       "      <td>1.588065e+12</td>\n",
       "      <td>23323</td>\n",
       "      <td>751.0</td>\n",
       "      <td>1625.0</td>\n",
       "    </tr>\n",
       "    <tr>\n",
       "      <th>3</th>\n",
       "      <td>1.588065e+12</td>\n",
       "      <td>23323</td>\n",
       "      <td>670.0</td>\n",
       "      <td>1483.0</td>\n",
       "    </tr>\n",
       "    <tr>\n",
       "      <th>4</th>\n",
       "      <td>1.588065e+12</td>\n",
       "      <td>23323</td>\n",
       "      <td>589.0</td>\n",
       "      <td>1341.0</td>\n",
       "    </tr>\n",
       "    <tr>\n",
       "      <th>...</th>\n",
       "      <td>...</td>\n",
       "      <td>...</td>\n",
       "      <td>...</td>\n",
       "      <td>...</td>\n",
       "    </tr>\n",
       "    <tr>\n",
       "      <th>2012</th>\n",
       "      <td>1.588068e+12</td>\n",
       "      <td>23358</td>\n",
       "      <td>-2015.0</td>\n",
       "      <td>1866.0</td>\n",
       "    </tr>\n",
       "    <tr>\n",
       "      <th>2013</th>\n",
       "      <td>1.588068e+12</td>\n",
       "      <td>23358</td>\n",
       "      <td>-2015.0</td>\n",
       "      <td>1866.0</td>\n",
       "    </tr>\n",
       "    <tr>\n",
       "      <th>2014</th>\n",
       "      <td>1.588068e+12</td>\n",
       "      <td>23358</td>\n",
       "      <td>-2015.0</td>\n",
       "      <td>1859.0</td>\n",
       "    </tr>\n",
       "    <tr>\n",
       "      <th>2015</th>\n",
       "      <td>1.588068e+12</td>\n",
       "      <td>23358</td>\n",
       "      <td>-2015.0</td>\n",
       "      <td>1857.0</td>\n",
       "    </tr>\n",
       "    <tr>\n",
       "      <th>2016</th>\n",
       "      <td>1.588068e+12</td>\n",
       "      <td>23358</td>\n",
       "      <td>-2015.0</td>\n",
       "      <td>1854.0</td>\n",
       "    </tr>\n",
       "  </tbody>\n",
       "</table>\n",
       "<p>2017 rows × 4 columns</p>\n",
       "</div>"
      ],
      "text/plain": [
       "      date_time_utc  tracked_object   x_pos   y_pos\n",
       "0      1.588065e+12           23323   914.0  2011.0\n",
       "1      1.588065e+12           23323   832.0  1808.0\n",
       "2      1.588065e+12           23323   751.0  1625.0\n",
       "3      1.588065e+12           23323   670.0  1483.0\n",
       "4      1.588065e+12           23323   589.0  1341.0\n",
       "...             ...             ...     ...     ...\n",
       "2012   1.588068e+12           23358 -2015.0  1866.0\n",
       "2013   1.588068e+12           23358 -2015.0  1866.0\n",
       "2014   1.588068e+12           23358 -2015.0  1859.0\n",
       "2015   1.588068e+12           23358 -2015.0  1857.0\n",
       "2016   1.588068e+12           23358 -2015.0  1854.0\n",
       "\n",
       "[2017 rows x 4 columns]"
      ]
     },
     "execution_count": 7,
     "metadata": {},
     "output_type": "execute_result"
    }
   ],
   "source": [
    "dh.df"
   ]
  },
  {
   "cell_type": "code",
   "execution_count": null,
   "metadata": {
    "colab": {},
    "colab_type": "code",
    "id": "cVVBb0Bh83zn"
   },
   "outputs": [],
   "source": []
  }
 ],
 "metadata": {
  "colab": {
   "collapsed_sections": [],
   "include_colab_link": true,
   "name": "sociophysicsDataHandler-package.ipynb",
   "provenance": [],
   "toc_visible": true
  },
  "kernelspec": {
   "display_name": "Python 3",
   "language": "python",
   "name": "python3"
  },
  "language_info": {
   "codemirror_mode": {
    "name": "ipython",
    "version": 3
   },
   "file_extension": ".py",
   "mimetype": "text/x-python",
   "name": "python",
   "nbconvert_exporter": "python",
   "pygments_lexer": "ipython3",
   "version": "3.7.4"
  }
 },
 "nbformat": 4,
 "nbformat_minor": 1
}
