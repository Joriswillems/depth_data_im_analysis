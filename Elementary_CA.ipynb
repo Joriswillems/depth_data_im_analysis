{
  "nbformat": 4,
  "nbformat_minor": 0,
  "metadata": {
    "colab": {
      "name": "Elementary_CA",
      "provenance": [],
      "collapsed_sections": [],
      "include_colab_link": true
    },
    "kernelspec": {
      "name": "python3",
      "display_name": "Python 3"
    }
  },
  "cells": [
    {
      "cell_type": "markdown",
      "metadata": {
        "id": "view-in-github",
        "colab_type": "text"
      },
      "source": [
        "<a href=\"https://colab.research.google.com/github/Joriswillems/socioPhysicsTUe/blob/master/Elementary_CA.ipynb\" target=\"_parent\"><img src=\"https://colab.research.google.com/assets/colab-badge.svg\" alt=\"Open In Colab\"/></a>"
      ]
    },
    {
      "cell_type": "markdown",
      "metadata": {
        "id": "TFqiRneMY--J",
        "colab_type": "text"
      },
      "source": [
        "\n",
        "# Elementary Cellular Automata\n",
        "An elementary cellular automaton is a grid of cells that can be in two states (1 and 0). The update follows a set of rules based on the state of the neighboring cells. \n",
        "Since there are 8 possible binary states, for a neighborhood (three cells neighboring a given cell), there are 256 different cellular automata.\n",
        "Each rule is indexed with an 8-bit binary number.\n",
        "It is a powerful tool used to describe the behaviour of discrete complex systems.\n",
        "Cellular automata can be used as template to simulate a variety of real systems, from biology to climate Physics reaching even quantum mechanics (The Cellular Automaton Interpretation of Quantum Mechanics, Gerardus't Hooft).\n",
        "The most famous rule is called \"The Game of Life\", designed by the mathematician John Conway (https://en.wikipedia.org/wiki/Conway%27s_Game_of_Life).\n",
        "This example is remarkable because it shows how, despite the extreme simplicity of the local rule, the longtime behavior of the configurations is unpredictable.\n",
        "In this notebook it will be presented a simple simulation of a system where the rule is given as an input.\n",
        "\n",
        "For more information about this topic, check https://www.cs.tau.ac.il/~nachumd/models/CA.pdf.\n",
        "\n",
        " Let us start importing the needed libraries and initializing our grid by giving as input the number of steps and cells.\n",
        "\n",
        "\n",
        " **ADD LINK TO THE MANUAL!!**"
      ]
    },
    {
      "cell_type": "code",
      "metadata": {
        "id": "u08YbV1OZCZ5",
        "colab_type": "code",
        "colab": {}
      },
      "source": [
        "# This code simulates elementary CAs\n",
        "# It prints a space-time plot of the CA behaviour\n",
        "\n",
        "import numpy as np\n",
        "import matplotlib.pyplot as plt\n",
        "import random as rd"
      ],
      "execution_count": null,
      "outputs": []
    },
    {
      "cell_type": "code",
      "metadata": {
        "id": "zByFCPImVyNf",
        "colab_type": "code",
        "colab": {
          "base_uri": "https://localhost:8080/",
          "height": 86
        },
        "outputId": "359642a2-d988-4851-9b3a-395994e4acd2"
      },
      "source": [
        "print('Enter the number of cells:')\n",
        "ncells = int(input())\n",
        "print('Enter the number of time steps:')\n",
        "ntsteps = int(input())"
      ],
      "execution_count": null,
      "outputs": [
        {
          "output_type": "stream",
          "text": [
            "Enter the number of cells:\n",
            "50\n",
            "Enter the number of time steps:\n",
            "50\n"
          ],
          "name": "stdout"
        }
      ]
    },
    {
      "cell_type": "code",
      "metadata": {
        "id": "Q9Yc1ML9ZD_q",
        "colab_type": "code",
        "colab": {}
      },
      "source": [
        "grid = np.zeros([ntsteps, ncells + 2])  # T x n grid (matrix) of zeros (white cells)\n",
        "grid[0, :] = rd.choices([0, 1], k=(ncells + 2))  # random first row with 50% chance of either 0 or 1\n",
        "#grid[0, :] = np.ones((ncells+2,), dtype=int) # first row of ones\n",
        "#grid[0, :] = np.zeros((ncells+2,), dtype=int) # first row of zeros"
      ],
      "execution_count": null,
      "outputs": []
    },
    {
      "cell_type": "markdown",
      "metadata": {
        "id": "MnprN34GZGHP",
        "colab_type": "text"
      },
      "source": [
        "The list \"grid\" represents our entire grid and the first column is given by a succession of ncells elements in a random state (the possible states are 0 and 1). \n",
        "Let us print the grid with only the first row filled."
      ]
    },
    {
      "cell_type": "code",
      "metadata": {
        "id": "FfY8x1rw54lT",
        "colab_type": "code",
        "colab": {
          "base_uri": "https://localhost:8080/",
          "height": 138
        },
        "outputId": "260b34b6-5c53-41de-b097-d5d709eca7ac"
      },
      "source": [
        "print(grid)\n",
        "\n"
      ],
      "execution_count": null,
      "outputs": [
        {
          "output_type": "stream",
          "text": [
            "[[0. 1. 0. ... 0. 1. 0.]\n",
            " [0. 0. 0. ... 0. 0. 0.]\n",
            " [0. 0. 0. ... 0. 0. 0.]\n",
            " ...\n",
            " [0. 0. 0. ... 0. 0. 0.]\n",
            " [0. 0. 0. ... 0. 0. 0.]\n",
            " [0. 0. 0. ... 0. 0. 0.]]\n"
          ],
          "name": "stdout"
        }
      ]
    },
    {
      "cell_type": "markdown",
      "metadata": {
        "id": "R55UV_NmQ8VP",
        "colab_type": "text"
      },
      "source": [
        "By using the next cell, we can give as an input the number of the Rule that we want to simulate, that will be converted in binary code."
      ]
    },
    {
      "cell_type": "code",
      "metadata": {
        "id": "gAzk2K9U6pkH",
        "colab_type": "code",
        "colab": {
          "base_uri": "https://localhost:8080/",
          "height": 52
        },
        "outputId": "dee340e1-43e2-414e-b24d-f1175dd26f31"
      },
      "source": [
        "print('Enter the rule:')\n",
        "r = int(input())\n",
        "chosenrule = [int(x) for x in np.binary_repr(r, width=8)]"
      ],
      "execution_count": null,
      "outputs": [
        {
          "output_type": "stream",
          "text": [
            "Enter the rule:\n",
            "30\n"
          ],
          "name": "stdout"
        }
      ]
    },
    {
      "cell_type": "code",
      "metadata": {
        "id": "VxmoJyupSTYS",
        "colab_type": "code",
        "colab": {
          "base_uri": "https://localhost:8080/",
          "height": 35
        },
        "outputId": "e1ab720f-c6bd-4bb0-af28-bde138013316"
      },
      "source": [
        "print(chosenrule)"
      ],
      "execution_count": null,
      "outputs": [
        {
          "output_type": "stream",
          "text": [
            "[0, 0, 0, 1, 1, 1, 1, 0]\n"
          ],
          "name": "stdout"
        }
      ]
    },
    {
      "cell_type": "markdown",
      "metadata": {
        "id": "OKxTAllaS0Tt",
        "colab_type": "text"
      },
      "source": [
        "Given now the rule in binary code, we can perform the two for loops over the cells and the timesteps.\n",
        "The index i represents the generation of cells, the index j the time step and the update is depending on the chosen rule.\n"
      ]
    },
    {
      "cell_type": "code",
      "metadata": {
        "id": "zam3n0AjTc30",
        "colab_type": "code",
        "colab": {}
      },
      "source": [
        "# The time loop\n",
        "for i in np.arange(0, ntsteps - 1):  # for each row of the grid (minus first row)\n",
        "  for j in np.arange(0, ncells): \n",
        "    k = int(\"\".join(str(int(x)) for x in grid[i, j:j + 3]), 2)\n",
        "    grid[i + 1, j + 1] = chosenrule[7 - k]\n",
        "density = np.count_nonzero(grid)/ ncells"
      ],
      "execution_count": null,
      "outputs": []
    },
    {
      "cell_type": "markdown",
      "metadata": {
        "id": "ZovuRbjIT_RK",
        "colab_type": "text"
      },
      "source": [
        "In the last line we also evaluated and saved the density of the grid, defined as the fraction of cells of the final configuration that have a value of 1.\n",
        "Now it is possible to print the complete system and observe the interesting emergent behaviour."
      ]
    },
    {
      "cell_type": "code",
      "metadata": {
        "id": "SQg0rw0k5dS5",
        "colab_type": "code",
        "colab": {
          "base_uri": "https://localhost:8080/",
          "height": 35
        },
        "outputId": "0ce7a0e4-e65d-4a10-b96b-260282ff40a4"
      },
      "source": [
        "print(density)"
      ],
      "execution_count": null,
      "outputs": [
        {
          "output_type": "stream",
          "text": [
            "24.4\n"
          ],
          "name": "stdout"
        }
      ]
    },
    {
      "cell_type": "code",
      "metadata": {
        "id": "XgJzoWDGNLc0",
        "colab_type": "code",
        "colab": {
          "base_uri": "https://localhost:8080/",
          "height": 138
        },
        "outputId": "2d1bf6c6-4ac3-4e48-a82e-ec7140db802f"
      },
      "source": [
        "print(grid)"
      ],
      "execution_count": null,
      "outputs": [
        {
          "output_type": "stream",
          "text": [
            "[[0. 1. 0. ... 0. 1. 0.]\n",
            " [0. 1. 0. ... 1. 1. 0.]\n",
            " [0. 1. 0. ... 0. 0. 0.]\n",
            " ...\n",
            " [0. 1. 0. ... 0. 0. 0.]\n",
            " [0. 1. 0. ... 0. 0. 0.]\n",
            " [0. 1. 0. ... 0. 0. 0.]]\n"
          ],
          "name": "stdout"
        }
      ]
    },
    {
      "cell_type": "code",
      "metadata": {
        "id": "TwetSoQUUFo0",
        "colab_type": "code",
        "colab": {
          "base_uri": "https://localhost:8080/",
          "height": 541
        },
        "outputId": "912fc544-ae3b-4e23-c7ee-64f342d66a6b"
      },
      "source": [
        "#Plot the space-time diagram\n",
        "#plt.matshow(grid, cmap = 'Greys')\n",
        "#plt.show()\n",
        "plt.figure(1, figsize=[8, 8])\n",
        "plt.imshow(grid[:, 1:ncells + 1], cmap=\"Greys\", interpolation=\"nearest\")\n",
        "plt.title(\"Space-time grid for rule $f$=%d\" % (r), fontsize=18)\n",
        "plt.xlabel(\"Space [cell]\", fontsize=16)\n",
        "plt.ylabel(\"t [iteration]\", fontsize=16)"
      ],
      "execution_count": null,
      "outputs": [
        {
          "output_type": "execute_result",
          "data": {
            "text/plain": [
              "Text(0, 0.5, 't [iteration]')"
            ]
          },
          "metadata": {
            "tags": []
          },
          "execution_count": 105
        },
        {
          "output_type": "display_data",
          "data": {
            "image/png": "[encoded data removed]",
            "text/plain": [
              "<Figure size 576x576 with 1 Axes>"
            ]
          },
          "metadata": {
            "tags": [],
            "needs_background": "light"
          }
        }
      ]
    },
    {
      "cell_type": "markdown",
      "metadata": {
        "id": "d_5cR68W-0Ur",
        "colab_type": "text"
      },
      "source": [
        "Cellular automata are also used to model pedestrians and crowd dynamics with very low computational costs.\n",
        "An example can be found in https://www-sciencedirect-com.proxy.library.uu.nl/science/article/pii/S0378437101001418 .\n"
      ]
    }
  ]
}