{
  "nbformat": 4,
  "nbformat_minor": 0,
  "metadata": {
    "colab": {
      "name": "sociophysicsDataHandler-package.ipynb",
      "provenance": [],
      "collapsed_sections": [],
      "toc_visible": true,
      "authorship_tag": "ABX9TyPoYZsKaO7Gz1qKH32AhfJ/",
      "include_colab_link": true
    },
    "kernelspec": {
      "name": "python3",
      "display_name": "Python 3"
    }
  },
  "cells": [
    {
      "cell_type": "markdown",
      "metadata": {
        "id": "view-in-github",
        "colab_type": "text"
      },
      "source": [
        "<a href=\"https://colab.research.google.com/github/Joriswillems/socioPhysicsTUe/blob/master/sociophysicsDataHandler_package.ipynb\" target=\"_parent\"><img src=\"https://colab.research.google.com/assets/colab-badge.svg\" alt=\"Open In Colab\"/></a>"
      ]
    },
    {
      "cell_type": "markdown",
      "metadata": {
        "id": "VYuYhWT29T8_",
        "colab_type": "text"
      },
      "source": [
        "# This Colab will explain how to install and use the SociophysicsDataHandler package"
      ]
    },
    {
      "cell_type": "markdown",
      "metadata": {
        "id": "HciEOBp39NcP",
        "colab_type": "text"
      },
      "source": [
        "First, you need to install the SociophysicsDataHandler package"
      ]
    },
    {
      "cell_type": "code",
      "metadata": {
        "id": "nnEIMkWe80G-",
        "colab_type": "code",
        "colab": {
          "base_uri": "https://localhost:8080/",
          "height": 328
        },
        "outputId": "11059dbe-d176-485f-f9fd-647661ec4439"
      },
      "source": [
        "!pip install sociophysicsDataHandler"
      ],
      "execution_count": null,
      "outputs": [
        {
          "output_type": "stream",
          "text": [
            "Requirement already satisfied: sociophysicsDataHandler in /usr/local/lib/python3.6/dist-packages (0.1)\n",
            "Requirement already satisfied: pyocclient in /usr/local/lib/python3.6/dist-packages (from sociophysicsDataHandler) (0.4)\n",
            "Requirement already satisfied: scipy>=1.4 in /usr/local/lib/python3.6/dist-packages (from sociophysicsDataHandler) (1.4.1)\n",
            "Requirement already satisfied: pyarrow in /usr/local/lib/python3.6/dist-packages (from sociophysicsDataHandler) (0.14.1)\n",
            "Requirement already satisfied: matplotlib>=2.0 in /usr/local/lib/python3.6/dist-packages (from sociophysicsDataHandler) (3.2.2)\n",
            "Requirement already satisfied: numpy>=1.8 in /usr/local/lib/python3.6/dist-packages (from sociophysicsDataHandler) (1.18.5)\n",
            "Requirement already satisfied: six in /usr/local/lib/python3.6/dist-packages (from pyocclient->sociophysicsDataHandler) (1.15.0)\n",
            "Requirement already satisfied: requests>=2.0.1 in /usr/local/lib/python3.6/dist-packages (from pyocclient->sociophysicsDataHandler) (2.23.0)\n",
            "Requirement already satisfied: cycler>=0.10 in /usr/local/lib/python3.6/dist-packages (from matplotlib>=2.0->sociophysicsDataHandler) (0.10.0)\n",
            "Requirement already satisfied: kiwisolver>=1.0.1 in /usr/local/lib/python3.6/dist-packages (from matplotlib>=2.0->sociophysicsDataHandler) (1.2.0)\n",
            "Requirement already satisfied: python-dateutil>=2.1 in /usr/local/lib/python3.6/dist-packages (from matplotlib>=2.0->sociophysicsDataHandler) (2.8.1)\n",
            "Requirement already satisfied: pyparsing!=2.0.4,!=2.1.2,!=2.1.6,>=2.0.1 in /usr/local/lib/python3.6/dist-packages (from matplotlib>=2.0->sociophysicsDataHandler) (2.4.7)\n",
            "Requirement already satisfied: chardet<4,>=3.0.2 in /usr/local/lib/python3.6/dist-packages (from requests>=2.0.1->pyocclient->sociophysicsDataHandler) (3.0.4)\n",
            "Requirement already satisfied: certifi>=2017.4.17 in /usr/local/lib/python3.6/dist-packages (from requests>=2.0.1->pyocclient->sociophysicsDataHandler) (2020.6.20)\n",
            "Requirement already satisfied: idna<3,>=2.5 in /usr/local/lib/python3.6/dist-packages (from requests>=2.0.1->pyocclient->sociophysicsDataHandler) (2.10)\n",
            "Requirement already satisfied: urllib3!=1.25.0,!=1.25.1,<1.26,>=1.21.1 in /usr/local/lib/python3.6/dist-packages (from requests>=2.0.1->pyocclient->sociophysicsDataHandler) (1.24.3)\n"
          ],
          "name": "stdout"
        }
      ]
    },
    {
      "cell_type": "markdown",
      "metadata": {
        "id": "o-Sn9lHQ9hVM",
        "colab_type": "text"
      },
      "source": [
        "Next, you need to load the package you just installed"
      ]
    },
    {
      "cell_type": "code",
      "metadata": {
        "id": "nvTpzEnv83mI",
        "colab_type": "code",
        "colab": {}
      },
      "source": [
        "from sociophysicsDataHandler import SociophysicsDataHandler"
      ],
      "execution_count": null,
      "outputs": []
    },
    {
      "cell_type": "markdown",
      "metadata": {
        "id": "4jIZRT0y9n65",
        "colab_type": "text"
      },
      "source": [
        "For the next step you need to generate credentials for Research Drive. You can find a guide to make these credentials in the file 'Course tools - manual for students'. When the credentials are correctly added to the 'auth.txt' file you can make a datahandler object which we will call dh."
      ]
    },
    {
      "cell_type": "code",
      "metadata": {
        "id": "kEdq9amo9ITp",
        "colab_type": "code",
        "colab": {}
      },
      "source": [
        "dh = SociophysicsDataHandler()"
      ],
      "execution_count": null,
      "outputs": []
    },
    {
      "cell_type": "markdown",
      "metadata": {
        "id": "JnSre7rl95Ij",
        "colab_type": "text"
      },
      "source": [
        "List all the files on the research drive with the following command."
      ]
    },
    {
      "cell_type": "code",
      "metadata": {
        "id": "PcQ86AzS9EF_",
        "colab_type": "code",
        "colab": {
          "base_uri": "https://localhost:8080/"
        },
        "outputId": "3e2e1e97-2eb8-430e-df7a-0fc1d464dd49"
      },
      "source": [
        "dh.print_files('')"
      ],
      "execution_count": null,
      "outputs": [
        {
          "output_type": "error",
          "ename": "AttributeError",
          "evalue": "ignored",
          "traceback": [
            "\u001b[0;31m---------------------------------------------------------------------------\u001b[0m",
            "\u001b[0;31mAttributeError\u001b[0m                            Traceback (most recent call last)",
            "\u001b[0;32m<ipython-input-15-e9934ebffb42>\u001b[0m in \u001b[0;36m<module>\u001b[0;34m()\u001b[0m\n\u001b[0;32m----> 1\u001b[0;31m \u001b[0mdh\u001b[0m\u001b[0;34m.\u001b[0m\u001b[0mprint_files\u001b[0m\u001b[0;34m(\u001b[0m\u001b[0;34m''\u001b[0m\u001b[0;34m)\u001b[0m\u001b[0;34m\u001b[0m\u001b[0;34m\u001b[0m\u001b[0m\n\u001b[0m",
            "\u001b[0;31mAttributeError\u001b[0m: 'SociophysicsDataHandler' object has no attribute 'print_files'"
          ]
        }
      ]
    },
    {
      "cell_type": "markdown",
      "metadata": {
        "id": "ONefS_Ua-M3q",
        "colab_type": "text"
      },
      "source": [
        "One of the trajectory data files can be loaded as follows"
      ]
    },
    {
      "cell_type": "code",
      "metadata": {
        "id": "o0wxywZw835q",
        "colab_type": "code",
        "colab": {
          "base_uri": "https://localhost:8080/",
          "height": 53
        },
        "outputId": "f8eea0ba-027e-4f86-b465-60e9f0896972"
      },
      "source": [
        "dh.fetch_data_from_path('asdz/platform2.1/20200428/ASDZ_Perron2.1_2020042809_trajectorie.parquet' )"
      ],
      "execution_count": null,
      "outputs": [
        {
          "output_type": "stream",
          "text": [
            "trying to fetch: /ProRail_USE_LL_data/asdz/platform2.1/20200428/ASDZ_Perron2.1_2020042809_trajectorie.parquet\n",
            "data fetched. Accessible as <this-object>.df\n"
          ],
          "name": "stdout"
        }
      ]
    },
    {
      "cell_type": "code",
      "metadata": {
        "id": "Xdq58B7G834K",
        "colab_type": "code",
        "colab": {
          "base_uri": "https://localhost:8080/",
          "height": 424
        },
        "outputId": "bd57995e-e33e-4cce-d3b1-3592fd9315b0"
      },
      "source": [
        "dh.df"
      ],
      "execution_count": null,
      "outputs": [
        {
          "output_type": "execute_result",
          "data": {
            "text/html": [
              "<div>\n",
              "<style scoped>\n",
              "    .dataframe tbody tr th:only-of-type {\n",
              "        vertical-align: middle;\n",
              "    }\n",
              "\n",
              "    .dataframe tbody tr th {\n",
              "        vertical-align: top;\n",
              "    }\n",
              "\n",
              "    .dataframe thead th {\n",
              "        text-align: right;\n",
              "    }\n",
              "</style>\n",
              "<table border=\"1\" class=\"dataframe\">\n",
              "  <thead>\n",
              "    <tr style=\"text-align: right;\">\n",
              "      <th></th>\n",
              "      <th>date_time_utc</th>\n",
              "      <th>tracked_object</th>\n",
              "      <th>x_pos</th>\n",
              "      <th>y_pos</th>\n",
              "    </tr>\n",
              "  </thead>\n",
              "  <tbody>\n",
              "    <tr>\n",
              "      <th>0</th>\n",
              "      <td>1588064694300</td>\n",
              "      <td>23323</td>\n",
              "      <td>914</td>\n",
              "      <td>2011</td>\n",
              "    </tr>\n",
              "    <tr>\n",
              "      <th>1</th>\n",
              "      <td>1588064694400</td>\n",
              "      <td>23323</td>\n",
              "      <td>832</td>\n",
              "      <td>1808</td>\n",
              "    </tr>\n",
              "    <tr>\n",
              "      <th>2</th>\n",
              "      <td>1588064694500</td>\n",
              "      <td>23323</td>\n",
              "      <td>751</td>\n",
              "      <td>1625</td>\n",
              "    </tr>\n",
              "    <tr>\n",
              "      <th>3</th>\n",
              "      <td>1588064694600</td>\n",
              "      <td>23323</td>\n",
              "      <td>670</td>\n",
              "      <td>1483</td>\n",
              "    </tr>\n",
              "    <tr>\n",
              "      <th>4</th>\n",
              "      <td>1588064694700</td>\n",
              "      <td>23323</td>\n",
              "      <td>589</td>\n",
              "      <td>1341</td>\n",
              "    </tr>\n",
              "    <tr>\n",
              "      <th>...</th>\n",
              "      <td>...</td>\n",
              "      <td>...</td>\n",
              "      <td>...</td>\n",
              "      <td>...</td>\n",
              "    </tr>\n",
              "    <tr>\n",
              "      <th>2012</th>\n",
              "      <td>1588067772400</td>\n",
              "      <td>23358</td>\n",
              "      <td>-2015</td>\n",
              "      <td>1866</td>\n",
              "    </tr>\n",
              "    <tr>\n",
              "      <th>2013</th>\n",
              "      <td>1588067772500</td>\n",
              "      <td>23358</td>\n",
              "      <td>-2015</td>\n",
              "      <td>1866</td>\n",
              "    </tr>\n",
              "    <tr>\n",
              "      <th>2014</th>\n",
              "      <td>1588067772600</td>\n",
              "      <td>23358</td>\n",
              "      <td>-2015</td>\n",
              "      <td>1859</td>\n",
              "    </tr>\n",
              "    <tr>\n",
              "      <th>2015</th>\n",
              "      <td>1588067772700</td>\n",
              "      <td>23358</td>\n",
              "      <td>-2015</td>\n",
              "      <td>1857</td>\n",
              "    </tr>\n",
              "    <tr>\n",
              "      <th>2016</th>\n",
              "      <td>1588067772800</td>\n",
              "      <td>23358</td>\n",
              "      <td>-2015</td>\n",
              "      <td>1854</td>\n",
              "    </tr>\n",
              "  </tbody>\n",
              "</table>\n",
              "<p>2017 rows × 4 columns</p>\n",
              "</div>"
            ],
            "text/plain": [
              "      date_time_utc tracked_object  x_pos y_pos\n",
              "0     1588064694300          23323    914  2011\n",
              "1     1588064694400          23323    832  1808\n",
              "2     1588064694500          23323    751  1625\n",
              "3     1588064694600          23323    670  1483\n",
              "4     1588064694700          23323    589  1341\n",
              "...             ...            ...    ...   ...\n",
              "2012  1588067772400          23358  -2015  1866\n",
              "2013  1588067772500          23358  -2015  1866\n",
              "2014  1588067772600          23358  -2015  1859\n",
              "2015  1588067772700          23358  -2015  1857\n",
              "2016  1588067772800          23358  -2015  1854\n",
              "\n",
              "[2017 rows x 4 columns]"
            ]
          },
          "metadata": {
            "tags": []
          },
          "execution_count": 14
        }
      ]
    },
    {
      "cell_type": "code",
      "metadata": {
        "id": "cVVBb0Bh83zn",
        "colab_type": "code",
        "colab": {}
      },
      "source": [
        ""
      ],
      "execution_count": null,
      "outputs": []
    }
  ]
}