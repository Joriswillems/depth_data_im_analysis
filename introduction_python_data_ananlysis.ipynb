{
  "nbformat": 4,
  "nbformat_minor": 0,
  "metadata": {
    "colab": {
      "name": "basic stats with pandas - avg, std dev, descriptive stats.ipynb",
      "provenance": [],
      "collapsed_sections": [],
      "include_colab_link": true
    },
    "kernelspec": {
      "name": "python3",
      "display_name": "Python 3"
    }
  },
  "cells": [
    {
      "cell_type": "markdown",
      "metadata": {
        "id": "view-in-github",
        "colab_type": "text"
      },
      "source": [
        "<a href=\"https://colab.research.google.com/github/Joriswillems/socioPhysicsTUe/blob/master/introduction_python_data_ananlysis.ipynb\" target=\"_parent\"><img src=\"https://colab.research.google.com/assets/colab-badge.svg\" alt=\"Open In Colab\"/></a>"
      ]
    },
    {
      "cell_type": "code",
      "metadata": {
        "id": "gV2GiqUpMUD1",
        "colab_type": "code",
        "colab": {}
      },
      "source": [
        "# Add examples with pedestrian data"
      ],
      "execution_count": null,
      "outputs": []
    },
    {
      "cell_type": "markdown",
      "metadata": {
        "id": "1kRT8ITqSCgp",
        "colab_type": "text"
      },
      "source": [
        "# Introduction to Data Analysis using Numpy and Pandas\n",
        "\n",
        "This notebook will give a short overview of how to start analysis on a dataset, using the python libraries numpy and pandas. Remember that this is just an introduciton, and will probably not cover everything you need. There is a lot of documentation to find on both of these libraries, for example in [this tutorial](https://www.learndatasci.com/tutorials/python-pandas-tutorial-complete-introduction-for-beginners/), or in the [full documentation](https://pandas.pydata.org/docs/). If that's not enough, Google has a lot more to offer.\n",
        "\n",
        "First, we need to import both libraries."
      ]
    },
    {
      "cell_type": "code",
      "metadata": {
        "id": "tJYP1NUuSCgq",
        "colab_type": "code",
        "colab": {}
      },
      "source": [
        "import numpy as np\n",
        "import pandas as pd"
      ],
      "execution_count": null,
      "outputs": []
    },
    {
      "cell_type": "markdown",
      "metadata": {
        "id": "GDJd8oP8SCgv",
        "colab_type": "text"
      },
      "source": [
        "By using 'as' we can assign a abbreviation, so that we don't have to type the entire name each time we use the library, which will be often"
      ]
    },
    {
      "cell_type": "markdown",
      "metadata": {
        "id": "mfFEr9BvSCgv",
        "colab_type": "text"
      },
      "source": [
        "## Importing data from a .csv file\n",
        "\n",
        "To import data from a .csv file, it is easiest to make sure that that file is in the same folder as the notebook on your computer. You can also import directly from a URL. If you're working on Google colab, you can also establish a link to your Google Drive to use files that are in that cloud storage.\n",
        "\n",
        "With this, we use the ```read_csv()``` function to import a csv file.\n",
        "\n",
        "For this introduction, I've used a dataset on country data, obtained from https://raw.githubusercontent.com/lorey/list-of-countries/master/csv/countries.csv\n",
        "\n",
        "Usually, the delimiter between values is a ',', hence the name 'csv' (Comma-Separated Values). However, in this file, the delimiter is ';', so we need to indicate that in the import.\n"
      ]
    },
    {
      "cell_type": "code",
      "metadata": {
        "id": "lKmVySYmSCgw",
        "colab_type": "code",
        "colab": {}
      },
      "source": [
        "file_url = 'https://raw.githubusercontent.com/lorey/list-of-countries/master/csv/countries.csv'\n",
        "df_countries = pd.read_csv(file_url, delimiter = ';')"
      ],
      "execution_count": null,
      "outputs": []
    },
    {
      "cell_type": "markdown",
      "metadata": {
        "id": "jsJDhJI4SCgz",
        "colab_type": "text"
      },
      "source": [
        "The ```read_csv()``` command returns a pandas DataFrame. This is the default representation of data in pandas. It is standard covnention to use a ```df_``` prefix to any variable name that represents a DataFrame. To give a first view of the information in a Dataframe, we can use the ```.head()``` method to display the first 5 rows of the DataFrame."
      ]
    },
    {
      "cell_type": "code",
      "metadata": {
        "id": "jSpuXPs-SCg0",
        "colab_type": "code",
        "colab": {
          "base_uri": "https://localhost:8080/",
          "height": 317
        },
        "outputId": "46e5150d-2e03-4268-9f72-e6fb09cdecdb"
      },
      "source": [
        "df_countries.head()"
      ],
      "execution_count": null,
      "outputs": [
        {
          "output_type": "execute_result",
          "data": {
            "text/html": [
              "<div>\n",
              "<style scoped>\n",
              "    .dataframe tbody tr th:only-of-type {\n",
              "        vertical-align: middle;\n",
              "    }\n",
              "\n",
              "    .dataframe tbody tr th {\n",
              "        vertical-align: top;\n",
              "    }\n",
              "\n",
              "    .dataframe thead th {\n",
              "        text-align: right;\n",
              "    }\n",
              "</style>\n",
              "<table border=\"1\" class=\"dataframe\">\n",
              "  <thead>\n",
              "    <tr style=\"text-align: right;\">\n",
              "      <th></th>\n",
              "      <th>alpha_2</th>\n",
              "      <th>alpha_3</th>\n",
              "      <th>area</th>\n",
              "      <th>capital</th>\n",
              "      <th>continent</th>\n",
              "      <th>currency_code</th>\n",
              "      <th>currency_name</th>\n",
              "      <th>eqivalent_fips_code</th>\n",
              "      <th>fips</th>\n",
              "      <th>geoname_id</th>\n",
              "      <th>languages</th>\n",
              "      <th>name</th>\n",
              "      <th>neighbours</th>\n",
              "      <th>numeric</th>\n",
              "      <th>phone</th>\n",
              "      <th>population</th>\n",
              "      <th>postal_code_format</th>\n",
              "      <th>postal_code_regex</th>\n",
              "      <th>tld</th>\n",
              "    </tr>\n",
              "  </thead>\n",
              "  <tbody>\n",
              "    <tr>\n",
              "      <th>0</th>\n",
              "      <td>AD</td>\n",
              "      <td>AND</td>\n",
              "      <td>468.0</td>\n",
              "      <td>Andorra la Vella</td>\n",
              "      <td>EU</td>\n",
              "      <td>EUR</td>\n",
              "      <td>Euro</td>\n",
              "      <td>NaN</td>\n",
              "      <td>AN</td>\n",
              "      <td>3041565</td>\n",
              "      <td>ca</td>\n",
              "      <td>Andorra</td>\n",
              "      <td>ES,FR</td>\n",
              "      <td>20</td>\n",
              "      <td>376</td>\n",
              "      <td>84000</td>\n",
              "      <td>AD###</td>\n",
              "      <td>^(?:AD)*(\\d{3})$</td>\n",
              "      <td>.ad</td>\n",
              "    </tr>\n",
              "    <tr>\n",
              "      <th>1</th>\n",
              "      <td>AE</td>\n",
              "      <td>ARE</td>\n",
              "      <td>82880.0</td>\n",
              "      <td>Abu Dhabi</td>\n",
              "      <td>AS</td>\n",
              "      <td>AED</td>\n",
              "      <td>Dirham</td>\n",
              "      <td>NaN</td>\n",
              "      <td>AE</td>\n",
              "      <td>290557</td>\n",
              "      <td>ar-AE,fa,en,hi,ur</td>\n",
              "      <td>United Arab Emirates</td>\n",
              "      <td>SA,OM</td>\n",
              "      <td>784</td>\n",
              "      <td>971</td>\n",
              "      <td>4975593</td>\n",
              "      <td>NaN</td>\n",
              "      <td>NaN</td>\n",
              "      <td>.ae</td>\n",
              "    </tr>\n",
              "    <tr>\n",
              "      <th>2</th>\n",
              "      <td>AF</td>\n",
              "      <td>AFG</td>\n",
              "      <td>647500.0</td>\n",
              "      <td>Kabul</td>\n",
              "      <td>AS</td>\n",
              "      <td>AFN</td>\n",
              "      <td>Afghani</td>\n",
              "      <td>NaN</td>\n",
              "      <td>AF</td>\n",
              "      <td>1149361</td>\n",
              "      <td>fa-AF,ps,uz-AF,tk</td>\n",
              "      <td>Afghanistan</td>\n",
              "      <td>TM,CN,IR,TJ,PK,UZ</td>\n",
              "      <td>4</td>\n",
              "      <td>93</td>\n",
              "      <td>29121286</td>\n",
              "      <td>NaN</td>\n",
              "      <td>NaN</td>\n",
              "      <td>.af</td>\n",
              "    </tr>\n",
              "    <tr>\n",
              "      <th>3</th>\n",
              "      <td>AG</td>\n",
              "      <td>ATG</td>\n",
              "      <td>443.0</td>\n",
              "      <td>St. John's</td>\n",
              "      <td>NaN</td>\n",
              "      <td>XCD</td>\n",
              "      <td>Dollar</td>\n",
              "      <td>NaN</td>\n",
              "      <td>AC</td>\n",
              "      <td>3576396</td>\n",
              "      <td>en-AG</td>\n",
              "      <td>Antigua and Barbuda</td>\n",
              "      <td>NaN</td>\n",
              "      <td>28</td>\n",
              "      <td>+1-268</td>\n",
              "      <td>86754</td>\n",
              "      <td>NaN</td>\n",
              "      <td>NaN</td>\n",
              "      <td>.ag</td>\n",
              "    </tr>\n",
              "    <tr>\n",
              "      <th>4</th>\n",
              "      <td>AI</td>\n",
              "      <td>AIA</td>\n",
              "      <td>102.0</td>\n",
              "      <td>The Valley</td>\n",
              "      <td>NaN</td>\n",
              "      <td>XCD</td>\n",
              "      <td>Dollar</td>\n",
              "      <td>NaN</td>\n",
              "      <td>AV</td>\n",
              "      <td>3573511</td>\n",
              "      <td>en-AI</td>\n",
              "      <td>Anguilla</td>\n",
              "      <td>NaN</td>\n",
              "      <td>660</td>\n",
              "      <td>+1-264</td>\n",
              "      <td>13254</td>\n",
              "      <td>NaN</td>\n",
              "      <td>NaN</td>\n",
              "      <td>.ai</td>\n",
              "    </tr>\n",
              "  </tbody>\n",
              "</table>\n",
              "</div>"
            ],
            "text/plain": [
              "  alpha_2 alpha_3      area  ... postal_code_format postal_code_regex  tld\n",
              "0      AD     AND     468.0  ...              AD###  ^(?:AD)*(\\d{3})$  .ad\n",
              "1      AE     ARE   82880.0  ...                NaN               NaN  .ae\n",
              "2      AF     AFG  647500.0  ...                NaN               NaN  .af\n",
              "3      AG     ATG     443.0  ...                NaN               NaN  .ag\n",
              "4      AI     AIA     102.0  ...                NaN               NaN  .ai\n",
              "\n",
              "[5 rows x 19 columns]"
            ]
          },
          "metadata": {
            "tags": []
          },
          "execution_count": 4
        }
      ]
    },
    {
      "cell_type": "markdown",
      "metadata": {
        "id": "_u5sLP9YSCg4",
        "colab_type": "text"
      },
      "source": [
        "As you can see, this data contains a lot of information about many countries (19 columns of quantities). Suppose, we are only interested in the continent, area and population of a country, then we can extract just these columns by using double square brackets:"
      ]
    },
    {
      "cell_type": "code",
      "metadata": {
        "id": "fpztFQq2SCg5",
        "colab_type": "code",
        "colab": {
          "base_uri": "https://localhost:8080/",
          "height": 196
        },
        "outputId": "e9863672-d177-4548-f985-638853214a4b"
      },
      "source": [
        "df_population = df_countries[['name', 'continent', 'area', 'population']]\n",
        "df_population.head()"
      ],
      "execution_count": null,
      "outputs": [
        {
          "output_type": "execute_result",
          "data": {
            "text/html": [
              "<div>\n",
              "<style scoped>\n",
              "    .dataframe tbody tr th:only-of-type {\n",
              "        vertical-align: middle;\n",
              "    }\n",
              "\n",
              "    .dataframe tbody tr th {\n",
              "        vertical-align: top;\n",
              "    }\n",
              "\n",
              "    .dataframe thead th {\n",
              "        text-align: right;\n",
              "    }\n",
              "</style>\n",
              "<table border=\"1\" class=\"dataframe\">\n",
              "  <thead>\n",
              "    <tr style=\"text-align: right;\">\n",
              "      <th></th>\n",
              "      <th>name</th>\n",
              "      <th>continent</th>\n",
              "      <th>area</th>\n",
              "      <th>population</th>\n",
              "    </tr>\n",
              "  </thead>\n",
              "  <tbody>\n",
              "    <tr>\n",
              "      <th>0</th>\n",
              "      <td>Andorra</td>\n",
              "      <td>EU</td>\n",
              "      <td>468.0</td>\n",
              "      <td>84000</td>\n",
              "    </tr>\n",
              "    <tr>\n",
              "      <th>1</th>\n",
              "      <td>United Arab Emirates</td>\n",
              "      <td>AS</td>\n",
              "      <td>82880.0</td>\n",
              "      <td>4975593</td>\n",
              "    </tr>\n",
              "    <tr>\n",
              "      <th>2</th>\n",
              "      <td>Afghanistan</td>\n",
              "      <td>AS</td>\n",
              "      <td>647500.0</td>\n",
              "      <td>29121286</td>\n",
              "    </tr>\n",
              "    <tr>\n",
              "      <th>3</th>\n",
              "      <td>Antigua and Barbuda</td>\n",
              "      <td>NaN</td>\n",
              "      <td>443.0</td>\n",
              "      <td>86754</td>\n",
              "    </tr>\n",
              "    <tr>\n",
              "      <th>4</th>\n",
              "      <td>Anguilla</td>\n",
              "      <td>NaN</td>\n",
              "      <td>102.0</td>\n",
              "      <td>13254</td>\n",
              "    </tr>\n",
              "  </tbody>\n",
              "</table>\n",
              "</div>"
            ],
            "text/plain": [
              "                   name continent      area  population\n",
              "0               Andorra        EU     468.0       84000\n",
              "1  United Arab Emirates        AS   82880.0     4975593\n",
              "2           Afghanistan        AS  647500.0    29121286\n",
              "3   Antigua and Barbuda       NaN     443.0       86754\n",
              "4              Anguilla       NaN     102.0       13254"
            ]
          },
          "metadata": {
            "tags": []
          },
          "execution_count": 5
        }
      ]
    },
    {
      "cell_type": "markdown",
      "metadata": {
        "id": "2wOX9Mj4SCg8",
        "colab_type": "text"
      },
      "source": [
        "This makes the dataframe easier to read.\n",
        "\n",
        "## Basic statistics on the data\n",
        "\n",
        "If we want to view some basic statistics of the data, the easiest start is made by using ```df.describe()```:"
      ]
    },
    {
      "cell_type": "code",
      "metadata": {
        "id": "R-9TibFuSCg9",
        "colab_type": "code",
        "colab": {
          "base_uri": "https://localhost:8080/",
          "height": 286
        },
        "outputId": "a2d80cde-d51c-4043-83e2-631bfb9fe64b"
      },
      "source": [
        "df_population.describe()"
      ],
      "execution_count": null,
      "outputs": [
        {
          "output_type": "execute_result",
          "data": {
            "text/html": [
              "<div>\n",
              "<style scoped>\n",
              "    .dataframe tbody tr th:only-of-type {\n",
              "        vertical-align: middle;\n",
              "    }\n",
              "\n",
              "    .dataframe tbody tr th {\n",
              "        vertical-align: top;\n",
              "    }\n",
              "\n",
              "    .dataframe thead th {\n",
              "        text-align: right;\n",
              "    }\n",
              "</style>\n",
              "<table border=\"1\" class=\"dataframe\">\n",
              "  <thead>\n",
              "    <tr style=\"text-align: right;\">\n",
              "      <th></th>\n",
              "      <th>area</th>\n",
              "      <th>population</th>\n",
              "    </tr>\n",
              "  </thead>\n",
              "  <tbody>\n",
              "    <tr>\n",
              "      <th>count</th>\n",
              "      <td>2.520000e+02</td>\n",
              "      <td>2.520000e+02</td>\n",
              "    </tr>\n",
              "    <tr>\n",
              "      <th>mean</th>\n",
              "      <td>5.952879e+05</td>\n",
              "      <td>2.727679e+07</td>\n",
              "    </tr>\n",
              "    <tr>\n",
              "      <th>std</th>\n",
              "      <td>1.904818e+06</td>\n",
              "      <td>1.164127e+08</td>\n",
              "    </tr>\n",
              "    <tr>\n",
              "      <th>min</th>\n",
              "      <td>0.000000e+00</td>\n",
              "      <td>0.000000e+00</td>\n",
              "    </tr>\n",
              "    <tr>\n",
              "      <th>25%</th>\n",
              "      <td>1.098000e+03</td>\n",
              "      <td>1.879528e+05</td>\n",
              "    </tr>\n",
              "    <tr>\n",
              "      <th>50%</th>\n",
              "      <td>6.489450e+04</td>\n",
              "      <td>4.268583e+06</td>\n",
              "    </tr>\n",
              "    <tr>\n",
              "      <th>75%</th>\n",
              "      <td>3.622245e+05</td>\n",
              "      <td>1.536688e+07</td>\n",
              "    </tr>\n",
              "    <tr>\n",
              "      <th>max</th>\n",
              "      <td>1.710000e+07</td>\n",
              "      <td>1.330044e+09</td>\n",
              "    </tr>\n",
              "  </tbody>\n",
              "</table>\n",
              "</div>"
            ],
            "text/plain": [
              "               area    population\n",
              "count  2.520000e+02  2.520000e+02\n",
              "mean   5.952879e+05  2.727679e+07\n",
              "std    1.904818e+06  1.164127e+08\n",
              "min    0.000000e+00  0.000000e+00\n",
              "25%    1.098000e+03  1.879528e+05\n",
              "50%    6.489450e+04  4.268583e+06\n",
              "75%    3.622245e+05  1.536688e+07\n",
              "max    1.710000e+07  1.330044e+09"
            ]
          },
          "metadata": {
            "tags": []
          },
          "execution_count": 6
        }
      ]
    },
    {
      "cell_type": "markdown",
      "metadata": {
        "id": "RCp7gvVoSChA",
        "colab_type": "text"
      },
      "source": [
        "This provides us with:\n",
        "- number of values in each numeric column (count)\n",
        "- the mean of these values (mean)\n",
        "- the standard deviation (std)\n",
        "- the minimum (min)\n",
        "- the maximum (max)\n",
        "- the 25%, 50%, and 75% quantiles\n",
        "\n",
        "If we, for example, want to know which countries have the highest population, we can sort the dataframe:"
      ]
    },
    {
      "cell_type": "code",
      "metadata": {
        "id": "7_vaqLmuSChB",
        "colab_type": "code",
        "colab": {
          "base_uri": "https://localhost:8080/",
          "height": 404
        },
        "outputId": "f383b9b8-45ac-4232-d955-83e18abe1075"
      },
      "source": [
        "df_population.sort_values(by = 'population', ascending = False)"
      ],
      "execution_count": null,
      "outputs": [
        {
          "output_type": "execute_result",
          "data": {
            "text/html": [
              "<div>\n",
              "<style scoped>\n",
              "    .dataframe tbody tr th:only-of-type {\n",
              "        vertical-align: middle;\n",
              "    }\n",
              "\n",
              "    .dataframe tbody tr th {\n",
              "        vertical-align: top;\n",
              "    }\n",
              "\n",
              "    .dataframe thead th {\n",
              "        text-align: right;\n",
              "    }\n",
              "</style>\n",
              "<table border=\"1\" class=\"dataframe\">\n",
              "  <thead>\n",
              "    <tr style=\"text-align: right;\">\n",
              "      <th></th>\n",
              "      <th>name</th>\n",
              "      <th>continent</th>\n",
              "      <th>area</th>\n",
              "      <th>population</th>\n",
              "    </tr>\n",
              "  </thead>\n",
              "  <tbody>\n",
              "    <tr>\n",
              "      <th>47</th>\n",
              "      <td>China</td>\n",
              "      <td>AS</td>\n",
              "      <td>9596960.0</td>\n",
              "      <td>1330044000</td>\n",
              "    </tr>\n",
              "    <tr>\n",
              "      <th>104</th>\n",
              "      <td>India</td>\n",
              "      <td>AS</td>\n",
              "      <td>3287590.0</td>\n",
              "      <td>1173108018</td>\n",
              "    </tr>\n",
              "    <tr>\n",
              "      <th>233</th>\n",
              "      <td>United States</td>\n",
              "      <td>NaN</td>\n",
              "      <td>9629091.0</td>\n",
              "      <td>310232863</td>\n",
              "    </tr>\n",
              "    <tr>\n",
              "      <th>100</th>\n",
              "      <td>Indonesia</td>\n",
              "      <td>AS</td>\n",
              "      <td>1919440.0</td>\n",
              "      <td>242968342</td>\n",
              "    </tr>\n",
              "    <tr>\n",
              "      <th>30</th>\n",
              "      <td>Brazil</td>\n",
              "      <td>SA</td>\n",
              "      <td>8511965.0</td>\n",
              "      <td>201103330</td>\n",
              "    </tr>\n",
              "    <tr>\n",
              "      <th>...</th>\n",
              "      <td>...</td>\n",
              "      <td>...</td>\n",
              "      <td>...</td>\n",
              "      <td>...</td>\n",
              "    </tr>\n",
              "    <tr>\n",
              "      <th>89</th>\n",
              "      <td>South Georgia and the South Sandwich Islands</td>\n",
              "      <td>AN</td>\n",
              "      <td>3903.0</td>\n",
              "      <td>30</td>\n",
              "    </tr>\n",
              "    <tr>\n",
              "      <th>232</th>\n",
              "      <td>United States Minor Outlying Islands</td>\n",
              "      <td>OC</td>\n",
              "      <td>0.0</td>\n",
              "      <td>0</td>\n",
              "    </tr>\n",
              "    <tr>\n",
              "      <th>33</th>\n",
              "      <td>Bouvet Island</td>\n",
              "      <td>AN</td>\n",
              "      <td>49.0</td>\n",
              "      <td>0</td>\n",
              "    </tr>\n",
              "    <tr>\n",
              "      <th>8</th>\n",
              "      <td>Antarctica</td>\n",
              "      <td>AN</td>\n",
              "      <td>14000000.0</td>\n",
              "      <td>0</td>\n",
              "    </tr>\n",
              "    <tr>\n",
              "      <th>95</th>\n",
              "      <td>Heard Island and McDonald Islands</td>\n",
              "      <td>AN</td>\n",
              "      <td>412.0</td>\n",
              "      <td>0</td>\n",
              "    </tr>\n",
              "  </tbody>\n",
              "</table>\n",
              "<p>252 rows × 4 columns</p>\n",
              "</div>"
            ],
            "text/plain": [
              "                                             name  ...  population\n",
              "47                                          China  ...  1330044000\n",
              "104                                         India  ...  1173108018\n",
              "233                                 United States  ...   310232863\n",
              "100                                     Indonesia  ...   242968342\n",
              "30                                         Brazil  ...   201103330\n",
              "..                                            ...  ...         ...\n",
              "89   South Georgia and the South Sandwich Islands  ...          30\n",
              "232          United States Minor Outlying Islands  ...           0\n",
              "33                                  Bouvet Island  ...           0\n",
              "8                                      Antarctica  ...           0\n",
              "95              Heard Island and McDonald Islands  ...           0\n",
              "\n",
              "[252 rows x 4 columns]"
            ]
          },
          "metadata": {
            "tags": []
          },
          "execution_count": 7
        }
      ]
    },
    {
      "cell_type": "markdown",
      "metadata": {
        "id": "BtIVHUaQSChF",
        "colab_type": "text"
      },
      "source": [
        "By using the 'by' statement, we choose which column to sort by. By using ```ascending = True``` we can sort in ascending order, ```ascending = False``` will result in descending order.\n",
        "\n",
        "If we want to do calculations on the variables in a DataFrame, we can add columns in a very straight-forward fashion:"
      ]
    },
    {
      "cell_type": "code",
      "metadata": {
        "id": "lmtR5aibSChF",
        "colab_type": "code",
        "colab": {
          "base_uri": "https://localhost:8080/",
          "height": 505
        },
        "outputId": "e79635cd-0b28-444b-dfd4-366dfabd548c"
      },
      "source": [
        "df_population['density'] = df_population['population'] / df_population['area']\n",
        "\n",
        "df_population"
      ],
      "execution_count": null,
      "outputs": [
        {
          "output_type": "stream",
          "text": [
            "/usr/local/lib/python3.6/dist-packages/ipykernel_launcher.py:1: SettingWithCopyWarning: \n",
            "A value is trying to be set on a copy of a slice from a DataFrame.\n",
            "Try using .loc[row_indexer,col_indexer] = value instead\n",
            "\n",
            "See the caveats in the documentation: https://pandas.pydata.org/pandas-docs/stable/user_guide/indexing.html#returning-a-view-versus-a-copy\n",
            "  \"\"\"Entry point for launching an IPython kernel.\n"
          ],
          "name": "stderr"
        },
        {
          "output_type": "execute_result",
          "data": {
            "text/html": [
              "<div>\n",
              "<style scoped>\n",
              "    .dataframe tbody tr th:only-of-type {\n",
              "        vertical-align: middle;\n",
              "    }\n",
              "\n",
              "    .dataframe tbody tr th {\n",
              "        vertical-align: top;\n",
              "    }\n",
              "\n",
              "    .dataframe thead th {\n",
              "        text-align: right;\n",
              "    }\n",
              "</style>\n",
              "<table border=\"1\" class=\"dataframe\">\n",
              "  <thead>\n",
              "    <tr style=\"text-align: right;\">\n",
              "      <th></th>\n",
              "      <th>name</th>\n",
              "      <th>continent</th>\n",
              "      <th>area</th>\n",
              "      <th>population</th>\n",
              "      <th>density</th>\n",
              "    </tr>\n",
              "  </thead>\n",
              "  <tbody>\n",
              "    <tr>\n",
              "      <th>0</th>\n",
              "      <td>Andorra</td>\n",
              "      <td>EU</td>\n",
              "      <td>468.0</td>\n",
              "      <td>84000</td>\n",
              "      <td>179.487179</td>\n",
              "    </tr>\n",
              "    <tr>\n",
              "      <th>1</th>\n",
              "      <td>United Arab Emirates</td>\n",
              "      <td>AS</td>\n",
              "      <td>82880.0</td>\n",
              "      <td>4975593</td>\n",
              "      <td>60.033699</td>\n",
              "    </tr>\n",
              "    <tr>\n",
              "      <th>2</th>\n",
              "      <td>Afghanistan</td>\n",
              "      <td>AS</td>\n",
              "      <td>647500.0</td>\n",
              "      <td>29121286</td>\n",
              "      <td>44.974959</td>\n",
              "    </tr>\n",
              "    <tr>\n",
              "      <th>3</th>\n",
              "      <td>Antigua and Barbuda</td>\n",
              "      <td>NaN</td>\n",
              "      <td>443.0</td>\n",
              "      <td>86754</td>\n",
              "      <td>195.832957</td>\n",
              "    </tr>\n",
              "    <tr>\n",
              "      <th>4</th>\n",
              "      <td>Anguilla</td>\n",
              "      <td>NaN</td>\n",
              "      <td>102.0</td>\n",
              "      <td>13254</td>\n",
              "      <td>129.941176</td>\n",
              "    </tr>\n",
              "    <tr>\n",
              "      <th>...</th>\n",
              "      <td>...</td>\n",
              "      <td>...</td>\n",
              "      <td>...</td>\n",
              "      <td>...</td>\n",
              "      <td>...</td>\n",
              "    </tr>\n",
              "    <tr>\n",
              "      <th>247</th>\n",
              "      <td>South Africa</td>\n",
              "      <td>AF</td>\n",
              "      <td>1219912.0</td>\n",
              "      <td>49000000</td>\n",
              "      <td>40.166832</td>\n",
              "    </tr>\n",
              "    <tr>\n",
              "      <th>248</th>\n",
              "      <td>Zambia</td>\n",
              "      <td>AF</td>\n",
              "      <td>752614.0</td>\n",
              "      <td>13460305</td>\n",
              "      <td>17.884739</td>\n",
              "    </tr>\n",
              "    <tr>\n",
              "      <th>249</th>\n",
              "      <td>Zimbabwe</td>\n",
              "      <td>AF</td>\n",
              "      <td>390580.0</td>\n",
              "      <td>13061000</td>\n",
              "      <td>33.440012</td>\n",
              "    </tr>\n",
              "    <tr>\n",
              "      <th>250</th>\n",
              "      <td>Serbia and Montenegro</td>\n",
              "      <td>EU</td>\n",
              "      <td>102350.0</td>\n",
              "      <td>10829175</td>\n",
              "      <td>105.805325</td>\n",
              "    </tr>\n",
              "    <tr>\n",
              "      <th>251</th>\n",
              "      <td>Netherlands Antilles</td>\n",
              "      <td>NaN</td>\n",
              "      <td>960.0</td>\n",
              "      <td>300000</td>\n",
              "      <td>312.500000</td>\n",
              "    </tr>\n",
              "  </tbody>\n",
              "</table>\n",
              "<p>252 rows × 5 columns</p>\n",
              "</div>"
            ],
            "text/plain": [
              "                      name continent       area  population     density\n",
              "0                  Andorra        EU      468.0       84000  179.487179\n",
              "1     United Arab Emirates        AS    82880.0     4975593   60.033699\n",
              "2              Afghanistan        AS   647500.0    29121286   44.974959\n",
              "3      Antigua and Barbuda       NaN      443.0       86754  195.832957\n",
              "4                 Anguilla       NaN      102.0       13254  129.941176\n",
              "..                     ...       ...        ...         ...         ...\n",
              "247           South Africa        AF  1219912.0    49000000   40.166832\n",
              "248                 Zambia        AF   752614.0    13460305   17.884739\n",
              "249               Zimbabwe        AF   390580.0    13061000   33.440012\n",
              "250  Serbia and Montenegro        EU   102350.0    10829175  105.805325\n",
              "251   Netherlands Antilles       NaN      960.0      300000  312.500000\n",
              "\n",
              "[252 rows x 5 columns]"
            ]
          },
          "metadata": {
            "tags": []
          },
          "execution_count": 8
        }
      ]
    },
    {
      "cell_type": "markdown",
      "metadata": {
        "id": "FB_lMGRQSChI",
        "colab_type": "text"
      },
      "source": [
        "By dividing the population by the area, we get the population density of the country. Again, we can get the basic statistics:"
      ]
    },
    {
      "cell_type": "code",
      "metadata": {
        "id": "tWiuTZHPSChJ",
        "colab_type": "code",
        "colab": {
          "base_uri": "https://localhost:8080/",
          "height": 167
        },
        "outputId": "55c01a15-798b-4141-87a9-47e5fdf00fad"
      },
      "source": [
        "df_population['density'].describe()"
      ],
      "execution_count": null,
      "outputs": [
        {
          "output_type": "execute_result",
          "data": {
            "text/plain": [
              "count      251.000000\n",
              "mean       306.013919\n",
              "std       1255.710574\n",
              "min          0.000000\n",
              "25%         28.762246\n",
              "50%         78.086579\n",
              "75%        195.874333\n",
              "max      16905.128205\n",
              "Name: density, dtype: float64"
            ]
          },
          "metadata": {
            "tags": []
          },
          "execution_count": 9
        }
      ]
    },
    {
      "cell_type": "markdown",
      "metadata": {
        "id": "o08vN2h2SChM",
        "colab_type": "text"
      },
      "source": [
        "## Filtering and Grouping"
      ]
    },
    {
      "cell_type": "markdown",
      "metadata": {
        "id": "cKV7de-vSChN",
        "colab_type": "text"
      },
      "source": [
        "Now, we might not always be interested in the entire dataframe. To filter rows in the dataframe, a 'Boolean mask' can be created, by using a Boolean statement on one of the columns. For example, to check which countries are in Asia:"
      ]
    },
    {
      "cell_type": "code",
      "metadata": {
        "id": "X2xiSei2SChN",
        "colab_type": "code",
        "colab": {
          "base_uri": "https://localhost:8080/",
          "height": 217
        },
        "outputId": "3b5336b1-e2da-48ae-c265-53c6da2e36a0"
      },
      "source": [
        "countries_in_asia = df_population['continent'] == 'AS'\n",
        "\n",
        "countries_in_asia"
      ],
      "execution_count": null,
      "outputs": [
        {
          "output_type": "execute_result",
          "data": {
            "text/plain": [
              "0      False\n",
              "1       True\n",
              "2       True\n",
              "3      False\n",
              "4      False\n",
              "       ...  \n",
              "247    False\n",
              "248    False\n",
              "249    False\n",
              "250    False\n",
              "251    False\n",
              "Name: continent, Length: 252, dtype: bool"
            ]
          },
          "metadata": {
            "tags": []
          },
          "execution_count": 10
        }
      ]
    },
    {
      "cell_type": "markdown",
      "metadata": {
        "id": "AU5_ODPMSChQ",
        "colab_type": "text"
      },
      "source": [
        "As you can see, for each of the rows, this indicates whether the statement is true or false. Now, to actually view the countries in Asia, we use the Boolean mask as an index:"
      ]
    },
    {
      "cell_type": "code",
      "metadata": {
        "id": "g7iFvpIkSChS",
        "colab_type": "code",
        "colab": {
          "base_uri": "https://localhost:8080/",
          "height": 1000
        },
        "outputId": "d0bc0b9c-f334-4f2f-8d95-e388d0d90135"
      },
      "source": [
        "df_asia = df_population[countries_in_asia]\n",
        "\n",
        "df_asia"
      ],
      "execution_count": null,
      "outputs": [
        {
          "output_type": "execute_result",
          "data": {
            "text/html": [
              "<div>\n",
              "<style scoped>\n",
              "    .dataframe tbody tr th:only-of-type {\n",
              "        vertical-align: middle;\n",
              "    }\n",
              "\n",
              "    .dataframe tbody tr th {\n",
              "        vertical-align: top;\n",
              "    }\n",
              "\n",
              "    .dataframe thead th {\n",
              "        text-align: right;\n",
              "    }\n",
              "</style>\n",
              "<table border=\"1\" class=\"dataframe\">\n",
              "  <thead>\n",
              "    <tr style=\"text-align: right;\">\n",
              "      <th></th>\n",
              "      <th>name</th>\n",
              "      <th>continent</th>\n",
              "      <th>area</th>\n",
              "      <th>population</th>\n",
              "      <th>density</th>\n",
              "    </tr>\n",
              "  </thead>\n",
              "  <tbody>\n",
              "    <tr>\n",
              "      <th>1</th>\n",
              "      <td>United Arab Emirates</td>\n",
              "      <td>AS</td>\n",
              "      <td>82880.0</td>\n",
              "      <td>4975593</td>\n",
              "      <td>60.033699</td>\n",
              "    </tr>\n",
              "    <tr>\n",
              "      <th>2</th>\n",
              "      <td>Afghanistan</td>\n",
              "      <td>AS</td>\n",
              "      <td>647500.0</td>\n",
              "      <td>29121286</td>\n",
              "      <td>44.974959</td>\n",
              "    </tr>\n",
              "    <tr>\n",
              "      <th>6</th>\n",
              "      <td>Armenia</td>\n",
              "      <td>AS</td>\n",
              "      <td>29800.0</td>\n",
              "      <td>2968000</td>\n",
              "      <td>99.597315</td>\n",
              "    </tr>\n",
              "    <tr>\n",
              "      <th>15</th>\n",
              "      <td>Azerbaijan</td>\n",
              "      <td>AS</td>\n",
              "      <td>86600.0</td>\n",
              "      <td>8303512</td>\n",
              "      <td>95.883510</td>\n",
              "    </tr>\n",
              "    <tr>\n",
              "      <th>18</th>\n",
              "      <td>Bangladesh</td>\n",
              "      <td>AS</td>\n",
              "      <td>144000.0</td>\n",
              "      <td>156118464</td>\n",
              "      <td>1084.156000</td>\n",
              "    </tr>\n",
              "    <tr>\n",
              "      <th>22</th>\n",
              "      <td>Bahrain</td>\n",
              "      <td>AS</td>\n",
              "      <td>665.0</td>\n",
              "      <td>738004</td>\n",
              "      <td>1109.780451</td>\n",
              "    </tr>\n",
              "    <tr>\n",
              "      <th>27</th>\n",
              "      <td>Brunei</td>\n",
              "      <td>AS</td>\n",
              "      <td>5770.0</td>\n",
              "      <td>395027</td>\n",
              "      <td>68.462218</td>\n",
              "    </tr>\n",
              "    <tr>\n",
              "      <th>32</th>\n",
              "      <td>Bhutan</td>\n",
              "      <td>AS</td>\n",
              "      <td>47000.0</td>\n",
              "      <td>699847</td>\n",
              "      <td>14.890362</td>\n",
              "    </tr>\n",
              "    <tr>\n",
              "      <th>38</th>\n",
              "      <td>Cocos Islands</td>\n",
              "      <td>AS</td>\n",
              "      <td>14.0</td>\n",
              "      <td>628</td>\n",
              "      <td>44.857143</td>\n",
              "    </tr>\n",
              "    <tr>\n",
              "      <th>47</th>\n",
              "      <td>China</td>\n",
              "      <td>AS</td>\n",
              "      <td>9596960.0</td>\n",
              "      <td>1330044000</td>\n",
              "      <td>138.590137</td>\n",
              "    </tr>\n",
              "    <tr>\n",
              "      <th>53</th>\n",
              "      <td>Christmas Island</td>\n",
              "      <td>AS</td>\n",
              "      <td>135.0</td>\n",
              "      <td>1500</td>\n",
              "      <td>11.111111</td>\n",
              "    </tr>\n",
              "    <tr>\n",
              "      <th>78</th>\n",
              "      <td>Georgia</td>\n",
              "      <td>AS</td>\n",
              "      <td>69700.0</td>\n",
              "      <td>4630000</td>\n",
              "      <td>66.427547</td>\n",
              "    </tr>\n",
              "    <tr>\n",
              "      <th>94</th>\n",
              "      <td>Hong Kong</td>\n",
              "      <td>AS</td>\n",
              "      <td>1092.0</td>\n",
              "      <td>6898686</td>\n",
              "      <td>6317.478022</td>\n",
              "    </tr>\n",
              "    <tr>\n",
              "      <th>100</th>\n",
              "      <td>Indonesia</td>\n",
              "      <td>AS</td>\n",
              "      <td>1919440.0</td>\n",
              "      <td>242968342</td>\n",
              "      <td>126.582931</td>\n",
              "    </tr>\n",
              "    <tr>\n",
              "      <th>102</th>\n",
              "      <td>Israel</td>\n",
              "      <td>AS</td>\n",
              "      <td>20770.0</td>\n",
              "      <td>7353985</td>\n",
              "      <td>354.067646</td>\n",
              "    </tr>\n",
              "    <tr>\n",
              "      <th>104</th>\n",
              "      <td>India</td>\n",
              "      <td>AS</td>\n",
              "      <td>3287590.0</td>\n",
              "      <td>1173108018</td>\n",
              "      <td>356.829172</td>\n",
              "    </tr>\n",
              "    <tr>\n",
              "      <th>105</th>\n",
              "      <td>British Indian Ocean Territory</td>\n",
              "      <td>AS</td>\n",
              "      <td>60.0</td>\n",
              "      <td>4000</td>\n",
              "      <td>66.666667</td>\n",
              "    </tr>\n",
              "    <tr>\n",
              "      <th>106</th>\n",
              "      <td>Iraq</td>\n",
              "      <td>AS</td>\n",
              "      <td>437072.0</td>\n",
              "      <td>29671605</td>\n",
              "      <td>67.887225</td>\n",
              "    </tr>\n",
              "    <tr>\n",
              "      <th>107</th>\n",
              "      <td>Iran</td>\n",
              "      <td>AS</td>\n",
              "      <td>1648000.0</td>\n",
              "      <td>76923300</td>\n",
              "      <td>46.676760</td>\n",
              "    </tr>\n",
              "    <tr>\n",
              "      <th>112</th>\n",
              "      <td>Jordan</td>\n",
              "      <td>AS</td>\n",
              "      <td>92300.0</td>\n",
              "      <td>6407085</td>\n",
              "      <td>69.415872</td>\n",
              "    </tr>\n",
              "    <tr>\n",
              "      <th>113</th>\n",
              "      <td>Japan</td>\n",
              "      <td>AS</td>\n",
              "      <td>377835.0</td>\n",
              "      <td>127288000</td>\n",
              "      <td>336.887795</td>\n",
              "    </tr>\n",
              "    <tr>\n",
              "      <th>115</th>\n",
              "      <td>Kyrgyzstan</td>\n",
              "      <td>AS</td>\n",
              "      <td>198500.0</td>\n",
              "      <td>5776500</td>\n",
              "      <td>29.100756</td>\n",
              "    </tr>\n",
              "    <tr>\n",
              "      <th>116</th>\n",
              "      <td>Cambodia</td>\n",
              "      <td>AS</td>\n",
              "      <td>181040.0</td>\n",
              "      <td>14453680</td>\n",
              "      <td>79.836942</td>\n",
              "    </tr>\n",
              "    <tr>\n",
              "      <th>120</th>\n",
              "      <td>North Korea</td>\n",
              "      <td>AS</td>\n",
              "      <td>120540.0</td>\n",
              "      <td>22912177</td>\n",
              "      <td>190.079451</td>\n",
              "    </tr>\n",
              "    <tr>\n",
              "      <th>121</th>\n",
              "      <td>South Korea</td>\n",
              "      <td>AS</td>\n",
              "      <td>98480.0</td>\n",
              "      <td>48422644</td>\n",
              "      <td>491.700284</td>\n",
              "    </tr>\n",
              "    <tr>\n",
              "      <th>123</th>\n",
              "      <td>Kuwait</td>\n",
              "      <td>AS</td>\n",
              "      <td>17820.0</td>\n",
              "      <td>2789132</td>\n",
              "      <td>156.516947</td>\n",
              "    </tr>\n",
              "    <tr>\n",
              "      <th>125</th>\n",
              "      <td>Kazakhstan</td>\n",
              "      <td>AS</td>\n",
              "      <td>2717300.0</td>\n",
              "      <td>15340000</td>\n",
              "      <td>5.645310</td>\n",
              "    </tr>\n",
              "    <tr>\n",
              "      <th>126</th>\n",
              "      <td>Laos</td>\n",
              "      <td>AS</td>\n",
              "      <td>236800.0</td>\n",
              "      <td>6368162</td>\n",
              "      <td>26.892576</td>\n",
              "    </tr>\n",
              "    <tr>\n",
              "      <th>127</th>\n",
              "      <td>Lebanon</td>\n",
              "      <td>AS</td>\n",
              "      <td>10400.0</td>\n",
              "      <td>4125247</td>\n",
              "      <td>396.658365</td>\n",
              "    </tr>\n",
              "    <tr>\n",
              "      <th>130</th>\n",
              "      <td>Sri Lanka</td>\n",
              "      <td>AS</td>\n",
              "      <td>65610.0</td>\n",
              "      <td>21513990</td>\n",
              "      <td>327.907179</td>\n",
              "    </tr>\n",
              "    <tr>\n",
              "      <th>146</th>\n",
              "      <td>Myanmar</td>\n",
              "      <td>AS</td>\n",
              "      <td>678500.0</td>\n",
              "      <td>53414374</td>\n",
              "      <td>78.724206</td>\n",
              "    </tr>\n",
              "    <tr>\n",
              "      <th>147</th>\n",
              "      <td>Mongolia</td>\n",
              "      <td>AS</td>\n",
              "      <td>1565000.0</td>\n",
              "      <td>3086918</td>\n",
              "      <td>1.972472</td>\n",
              "    </tr>\n",
              "    <tr>\n",
              "      <th>148</th>\n",
              "      <td>Macao</td>\n",
              "      <td>AS</td>\n",
              "      <td>254.0</td>\n",
              "      <td>449198</td>\n",
              "      <td>1768.496063</td>\n",
              "    </tr>\n",
              "    <tr>\n",
              "      <th>155</th>\n",
              "      <td>Maldives</td>\n",
              "      <td>AS</td>\n",
              "      <td>300.0</td>\n",
              "      <td>395650</td>\n",
              "      <td>1318.833333</td>\n",
              "    </tr>\n",
              "    <tr>\n",
              "      <th>158</th>\n",
              "      <td>Malaysia</td>\n",
              "      <td>AS</td>\n",
              "      <td>329750.0</td>\n",
              "      <td>28274729</td>\n",
              "      <td>85.745956</td>\n",
              "    </tr>\n",
              "    <tr>\n",
              "      <th>168</th>\n",
              "      <td>Nepal</td>\n",
              "      <td>AS</td>\n",
              "      <td>140800.0</td>\n",
              "      <td>28951852</td>\n",
              "      <td>205.623949</td>\n",
              "    </tr>\n",
              "    <tr>\n",
              "      <th>172</th>\n",
              "      <td>Oman</td>\n",
              "      <td>AS</td>\n",
              "      <td>212460.0</td>\n",
              "      <td>2967717</td>\n",
              "      <td>13.968356</td>\n",
              "    </tr>\n",
              "    <tr>\n",
              "      <th>177</th>\n",
              "      <td>Philippines</td>\n",
              "      <td>AS</td>\n",
              "      <td>300000.0</td>\n",
              "      <td>99900177</td>\n",
              "      <td>333.000590</td>\n",
              "    </tr>\n",
              "    <tr>\n",
              "      <th>178</th>\n",
              "      <td>Pakistan</td>\n",
              "      <td>AS</td>\n",
              "      <td>803940.0</td>\n",
              "      <td>184404791</td>\n",
              "      <td>229.376310</td>\n",
              "    </tr>\n",
              "    <tr>\n",
              "      <th>183</th>\n",
              "      <td>Palestinian Territory</td>\n",
              "      <td>AS</td>\n",
              "      <td>5970.0</td>\n",
              "      <td>3800000</td>\n",
              "      <td>636.515913</td>\n",
              "    </tr>\n",
              "    <tr>\n",
              "      <th>187</th>\n",
              "      <td>Qatar</td>\n",
              "      <td>AS</td>\n",
              "      <td>11437.0</td>\n",
              "      <td>840926</td>\n",
              "      <td>73.526799</td>\n",
              "    </tr>\n",
              "    <tr>\n",
              "      <th>193</th>\n",
              "      <td>Saudi Arabia</td>\n",
              "      <td>AS</td>\n",
              "      <td>1960582.0</td>\n",
              "      <td>25731776</td>\n",
              "      <td>13.124560</td>\n",
              "    </tr>\n",
              "    <tr>\n",
              "      <th>199</th>\n",
              "      <td>Singapore</td>\n",
              "      <td>AS</td>\n",
              "      <td>692.7</td>\n",
              "      <td>4701069</td>\n",
              "      <td>6786.587267</td>\n",
              "    </tr>\n",
              "    <tr>\n",
              "      <th>212</th>\n",
              "      <td>Syria</td>\n",
              "      <td>AS</td>\n",
              "      <td>185180.0</td>\n",
              "      <td>22198110</td>\n",
              "      <td>119.873150</td>\n",
              "    </tr>\n",
              "    <tr>\n",
              "      <th>218</th>\n",
              "      <td>Thailand</td>\n",
              "      <td>AS</td>\n",
              "      <td>514000.0</td>\n",
              "      <td>67089500</td>\n",
              "      <td>130.524319</td>\n",
              "    </tr>\n",
              "    <tr>\n",
              "      <th>219</th>\n",
              "      <td>Tajikistan</td>\n",
              "      <td>AS</td>\n",
              "      <td>143100.0</td>\n",
              "      <td>7487489</td>\n",
              "      <td>52.323473</td>\n",
              "    </tr>\n",
              "    <tr>\n",
              "      <th>222</th>\n",
              "      <td>Turkmenistan</td>\n",
              "      <td>AS</td>\n",
              "      <td>488100.0</td>\n",
              "      <td>4940916</td>\n",
              "      <td>10.122754</td>\n",
              "    </tr>\n",
              "    <tr>\n",
              "      <th>225</th>\n",
              "      <td>Turkey</td>\n",
              "      <td>AS</td>\n",
              "      <td>780580.0</td>\n",
              "      <td>77804122</td>\n",
              "      <td>99.674757</td>\n",
              "    </tr>\n",
              "    <tr>\n",
              "      <th>228</th>\n",
              "      <td>Taiwan</td>\n",
              "      <td>AS</td>\n",
              "      <td>35980.0</td>\n",
              "      <td>22894384</td>\n",
              "      <td>636.308616</td>\n",
              "    </tr>\n",
              "    <tr>\n",
              "      <th>235</th>\n",
              "      <td>Uzbekistan</td>\n",
              "      <td>AS</td>\n",
              "      <td>447400.0</td>\n",
              "      <td>27865738</td>\n",
              "      <td>62.283724</td>\n",
              "    </tr>\n",
              "    <tr>\n",
              "      <th>241</th>\n",
              "      <td>Vietnam</td>\n",
              "      <td>AS</td>\n",
              "      <td>329560.0</td>\n",
              "      <td>89571130</td>\n",
              "      <td>271.790053</td>\n",
              "    </tr>\n",
              "    <tr>\n",
              "      <th>245</th>\n",
              "      <td>Yemen</td>\n",
              "      <td>AS</td>\n",
              "      <td>527970.0</td>\n",
              "      <td>23495361</td>\n",
              "      <td>44.501318</td>\n",
              "    </tr>\n",
              "  </tbody>\n",
              "</table>\n",
              "</div>"
            ],
            "text/plain": [
              "                               name continent  ...  population      density\n",
              "1              United Arab Emirates        AS  ...     4975593    60.033699\n",
              "2                       Afghanistan        AS  ...    29121286    44.974959\n",
              "6                           Armenia        AS  ...     2968000    99.597315\n",
              "15                       Azerbaijan        AS  ...     8303512    95.883510\n",
              "18                       Bangladesh        AS  ...   156118464  1084.156000\n",
              "22                          Bahrain        AS  ...      738004  1109.780451\n",
              "27                           Brunei        AS  ...      395027    68.462218\n",
              "32                           Bhutan        AS  ...      699847    14.890362\n",
              "38                    Cocos Islands        AS  ...         628    44.857143\n",
              "47                            China        AS  ...  1330044000   138.590137\n",
              "53                 Christmas Island        AS  ...        1500    11.111111\n",
              "78                          Georgia        AS  ...     4630000    66.427547\n",
              "94                        Hong Kong        AS  ...     6898686  6317.478022\n",
              "100                       Indonesia        AS  ...   242968342   126.582931\n",
              "102                          Israel        AS  ...     7353985   354.067646\n",
              "104                           India        AS  ...  1173108018   356.829172\n",
              "105  British Indian Ocean Territory        AS  ...        4000    66.666667\n",
              "106                            Iraq        AS  ...    29671605    67.887225\n",
              "107                            Iran        AS  ...    76923300    46.676760\n",
              "112                          Jordan        AS  ...     6407085    69.415872\n",
              "113                           Japan        AS  ...   127288000   336.887795\n",
              "115                      Kyrgyzstan        AS  ...     5776500    29.100756\n",
              "116                        Cambodia        AS  ...    14453680    79.836942\n",
              "120                     North Korea        AS  ...    22912177   190.079451\n",
              "121                     South Korea        AS  ...    48422644   491.700284\n",
              "123                          Kuwait        AS  ...     2789132   156.516947\n",
              "125                      Kazakhstan        AS  ...    15340000     5.645310\n",
              "126                            Laos        AS  ...     6368162    26.892576\n",
              "127                         Lebanon        AS  ...     4125247   396.658365\n",
              "130                       Sri Lanka        AS  ...    21513990   327.907179\n",
              "146                         Myanmar        AS  ...    53414374    78.724206\n",
              "147                        Mongolia        AS  ...     3086918     1.972472\n",
              "148                           Macao        AS  ...      449198  1768.496063\n",
              "155                        Maldives        AS  ...      395650  1318.833333\n",
              "158                        Malaysia        AS  ...    28274729    85.745956\n",
              "168                           Nepal        AS  ...    28951852   205.623949\n",
              "172                            Oman        AS  ...     2967717    13.968356\n",
              "177                     Philippines        AS  ...    99900177   333.000590\n",
              "178                        Pakistan        AS  ...   184404791   229.376310\n",
              "183           Palestinian Territory        AS  ...     3800000   636.515913\n",
              "187                           Qatar        AS  ...      840926    73.526799\n",
              "193                    Saudi Arabia        AS  ...    25731776    13.124560\n",
              "199                       Singapore        AS  ...     4701069  6786.587267\n",
              "212                           Syria        AS  ...    22198110   119.873150\n",
              "218                        Thailand        AS  ...    67089500   130.524319\n",
              "219                      Tajikistan        AS  ...     7487489    52.323473\n",
              "222                    Turkmenistan        AS  ...     4940916    10.122754\n",
              "225                          Turkey        AS  ...    77804122    99.674757\n",
              "228                          Taiwan        AS  ...    22894384   636.308616\n",
              "235                      Uzbekistan        AS  ...    27865738    62.283724\n",
              "241                         Vietnam        AS  ...    89571130   271.790053\n",
              "245                           Yemen        AS  ...    23495361    44.501318\n",
              "\n",
              "[52 rows x 5 columns]"
            ]
          },
          "metadata": {
            "tags": []
          },
          "execution_count": 11
        }
      ]
    },
    {
      "cell_type": "markdown",
      "metadata": {
        "id": "OM6dmgMLSChV",
        "colab_type": "text"
      },
      "source": [
        "In this way, we can obtain summary statistics for a certain group of the rows. But suppose we are not only interested in Asia, but in all continents. To do this, we can use ```df.groupby()```:"
      ]
    },
    {
      "cell_type": "code",
      "metadata": {
        "id": "6YOH7SowSChV",
        "colab_type": "code",
        "colab": {
          "base_uri": "https://localhost:8080/",
          "height": 256
        },
        "outputId": "4097381e-3988-4ff8-a9d1-8e96721a551e"
      },
      "source": [
        "df_population_grouped = df_population.groupby('continent')\n",
        "\n",
        "df_population_grouped['population'].describe() #grouping with apply, grouping with transform, querying"
      ],
      "execution_count": null,
      "outputs": [
        {
          "output_type": "execute_result",
          "data": {
            "text/html": [
              "<div>\n",
              "<style scoped>\n",
              "    .dataframe tbody tr th:only-of-type {\n",
              "        vertical-align: middle;\n",
              "    }\n",
              "\n",
              "    .dataframe tbody tr th {\n",
              "        vertical-align: top;\n",
              "    }\n",
              "\n",
              "    .dataframe thead th {\n",
              "        text-align: right;\n",
              "    }\n",
              "</style>\n",
              "<table border=\"1\" class=\"dataframe\">\n",
              "  <thead>\n",
              "    <tr style=\"text-align: right;\">\n",
              "      <th></th>\n",
              "      <th>count</th>\n",
              "      <th>mean</th>\n",
              "      <th>std</th>\n",
              "      <th>min</th>\n",
              "      <th>25%</th>\n",
              "      <th>50%</th>\n",
              "      <th>75%</th>\n",
              "      <th>max</th>\n",
              "    </tr>\n",
              "    <tr>\n",
              "      <th>continent</th>\n",
              "      <th></th>\n",
              "      <th></th>\n",
              "      <th></th>\n",
              "      <th></th>\n",
              "      <th></th>\n",
              "      <th></th>\n",
              "      <th></th>\n",
              "      <th></th>\n",
              "    </tr>\n",
              "  </thead>\n",
              "  <tbody>\n",
              "    <tr>\n",
              "      <th>AF</th>\n",
              "      <td>58.0</td>\n",
              "      <td>1.753241e+07</td>\n",
              "      <td>2.663389e+07</td>\n",
              "      <td>7460.0</td>\n",
              "      <td>1674830.0</td>\n",
              "      <td>9987785.0</td>\n",
              "      <td>20617635.75</td>\n",
              "      <td>1.540000e+08</td>\n",
              "    </tr>\n",
              "    <tr>\n",
              "      <th>AN</th>\n",
              "      <td>5.0</td>\n",
              "      <td>3.400000e+01</td>\n",
              "      <td>6.066300e+01</td>\n",
              "      <td>0.0</td>\n",
              "      <td>0.0</td>\n",
              "      <td>0.0</td>\n",
              "      <td>30.00</td>\n",
              "      <td>1.400000e+02</td>\n",
              "    </tr>\n",
              "    <tr>\n",
              "      <th>AS</th>\n",
              "      <td>52.0</td>\n",
              "      <td>7.943435e+07</td>\n",
              "      <td>2.424824e+08</td>\n",
              "      <td>628.0</td>\n",
              "      <td>3621729.5</td>\n",
              "      <td>11378596.0</td>\n",
              "      <td>34359364.75</td>\n",
              "      <td>1.330044e+09</td>\n",
              "    </tr>\n",
              "    <tr>\n",
              "      <th>EU</th>\n",
              "      <td>54.0</td>\n",
              "      <td>1.388834e+07</td>\n",
              "      <td>2.591090e+07</td>\n",
              "      <td>921.0</td>\n",
              "      <td>426634.5</td>\n",
              "      <td>4606458.5</td>\n",
              "      <td>10457750.00</td>\n",
              "      <td>1.407020e+08</td>\n",
              "    </tr>\n",
              "    <tr>\n",
              "      <th>OC</th>\n",
              "      <td>27.0</td>\n",
              "      <td>1.335780e+06</td>\n",
              "      <td>4.262102e+06</td>\n",
              "      <td>0.0</td>\n",
              "      <td>13248.5</td>\n",
              "      <td>92533.0</td>\n",
              "      <td>246018.50</td>\n",
              "      <td>2.151575e+07</td>\n",
              "    </tr>\n",
              "    <tr>\n",
              "      <th>SA</th>\n",
              "      <td>14.0</td>\n",
              "      <td>2.858168e+07</td>\n",
              "      <td>5.209916e+07</td>\n",
              "      <td>2638.0</td>\n",
              "      <td>1430614.5</td>\n",
              "      <td>12369013.0</td>\n",
              "      <td>29236059.25</td>\n",
              "      <td>2.011033e+08</td>\n",
              "    </tr>\n",
              "  </tbody>\n",
              "</table>\n",
              "</div>"
            ],
            "text/plain": [
              "           count          mean  ...          75%           max\n",
              "continent                       ...                           \n",
              "AF          58.0  1.753241e+07  ...  20617635.75  1.540000e+08\n",
              "AN           5.0  3.400000e+01  ...        30.00  1.400000e+02\n",
              "AS          52.0  7.943435e+07  ...  34359364.75  1.330044e+09\n",
              "EU          54.0  1.388834e+07  ...  10457750.00  1.407020e+08\n",
              "OC          27.0  1.335780e+06  ...    246018.50  2.151575e+07\n",
              "SA          14.0  2.858168e+07  ...  29236059.25  2.011033e+08\n",
              "\n",
              "[6 rows x 8 columns]"
            ]
          },
          "metadata": {
            "tags": []
          },
          "execution_count": 12
        }
      ]
    },
    {
      "cell_type": "markdown",
      "metadata": {
        "id": "LvXUeX8JSChY",
        "colab_type": "text"
      },
      "source": [
        "## Plotting\n",
        "\n",
        "Pandas has integrated libraries to plot the data in a dataframe. By default, the index is used for the horizontal axis, so the way in which the data is sorted makes a big difference.\n",
        "\n",
        "By calling ```df.plot()```, we can make all kinds of plots. The default is a line plot:\n",
        "\n"
      ]
    },
    {
      "cell_type": "code",
      "metadata": {
        "id": "Iva_xBr6SChZ",
        "colab_type": "code",
        "colab": {
          "base_uri": "https://localhost:8080/",
          "height": 283
        },
        "outputId": "54f01003-b4f6-4da9-8969-b2573d3ca310"
      },
      "source": [
        "df_population.sort_values(by = 'density', ascending = False).reset_index()['density'].plot()"
      ],
      "execution_count": null,
      "outputs": [
        {
          "output_type": "execute_result",
          "data": {
            "text/plain": [
              "<matplotlib.axes._subplots.AxesSubplot at 0x7fbbd1ab1cc0>"
            ]
          },
          "metadata": {
            "tags": []
          },
          "execution_count": 13
        },
        {
          "output_type": "display_data",
          "data": {
            "image/png": "[encoded data removed]",
            "text/plain": [
              "<Figure size 432x288 with 1 Axes>"
            ]
          },
          "metadata": {
            "tags": [],
            "needs_background": "light"
          }
        }
      ]
    },
    {
      "cell_type": "markdown",
      "metadata": {
        "id": "Sw9evYTzZNUj",
        "colab_type": "text"
      },
      "source": [
        "From this plot, we see that there are a few countries with a very high density, and then a lot of countries that have a much more similar density to each other.\n",
        "\n",
        "To investigate correlations in the data, a scatter plot can be very useful. For example, if we want to plot the number of people in a country, and see how this correlates with the area of that country we can use ```kind = scatter```:"
      ]
    },
    {
      "cell_type": "code",
      "metadata": {
        "id": "MSO9I0ImZwo0",
        "colab_type": "code",
        "colab": {
          "base_uri": "https://localhost:8080/",
          "height": 307
        },
        "outputId": "560e75dc-ab27-409e-b4dc-824343b325d1"
      },
      "source": [
        "df_population.plot(kind = 'scatter', x = 'area', y = 'population')"
      ],
      "execution_count": null,
      "outputs": [
        {
          "output_type": "execute_result",
          "data": {
            "text/plain": [
              "<matplotlib.axes._subplots.AxesSubplot at 0x7fbbd1540358>"
            ]
          },
          "metadata": {
            "tags": []
          },
          "execution_count": 14
        },
        {
          "output_type": "display_data",
          "data": {
            "image/png": "[encoded data removed]",
            "text/plain": [
              "<Figure size 432x288 with 1 Axes>"
            ]
          },
          "metadata": {
            "tags": [],
            "needs_background": "light"
          }
        }
      ]
    },
    {
      "cell_type": "markdown",
      "metadata": {
        "id": "ASlVGglbeIFj",
        "colab_type": "text"
      },
      "source": [
        "Other plots include the box plot, which indicates the mean and other descriptive statistics. See [wikipedia](https://en.wikipedia.org/wiki/Box_plot) for some more extensive explanation on how to read these graphs."
      ]
    },
    {
      "cell_type": "code",
      "metadata": {
        "id": "JiBPlnoWZ-D0",
        "colab_type": "code",
        "colab": {
          "base_uri": "https://localhost:8080/",
          "height": 293
        },
        "outputId": "aa0323e5-6b99-4f89-e5ab-1d7fbede50c2"
      },
      "source": [
        "df_population[df_population['continent'] == 'SA']['population'].plot(kind = 'box')"
      ],
      "execution_count": null,
      "outputs": [
        {
          "output_type": "execute_result",
          "data": {
            "text/plain": [
              "<matplotlib.axes._subplots.AxesSubplot at 0x7fbbd0d6c7b8>"
            ]
          },
          "metadata": {
            "tags": []
          },
          "execution_count": 28
        },
        {
          "output_type": "display_data",
          "data": {
            "image/png": "[encoded data removed]",
            "text/plain": [
              "<Figure size 432x288 with 1 Axes>"
            ]
          },
          "metadata": {
            "tags": [],
            "needs_background": "light"
          }
        }
      ]
    },
    {
      "cell_type": "markdown",
      "metadata": {
        "id": "eZwkKRt6ebeA",
        "colab_type": "text"
      },
      "source": [
        "A histogram is another viable option, which counts how many times a value is in a certain range. The size of these ranges can be adjusted changing the number of bins."
      ]
    },
    {
      "cell_type": "code",
      "metadata": {
        "id": "Hbj7yuwhch7-",
        "colab_type": "code",
        "colab": {
          "base_uri": "https://localhost:8080/",
          "height": 294
        },
        "outputId": "17620fd4-6507-4994-e4a1-465ea0e38129"
      },
      "source": [
        "df_population['area'].plot(kind = 'hist', bins = 30)"
      ],
      "execution_count": null,
      "outputs": [
        {
          "output_type": "execute_result",
          "data": {
            "text/plain": [
              "<matplotlib.axes._subplots.AxesSubplot at 0x7fbbd0d8f518>"
            ]
          },
          "metadata": {
            "tags": []
          },
          "execution_count": 33
        },
        {
          "output_type": "display_data",
          "data": {
            "image/png": "[encoded data removed]",
            "text/plain": [
              "<Figure size 432x288 with 1 Axes>"
            ]
          },
          "metadata": {
            "tags": [],
            "needs_background": "light"
          }
        }
      ]
    },
    {
      "cell_type": "markdown",
      "metadata": {
        "id": "qN_edWOZeoWx",
        "colab_type": "text"
      },
      "source": [
        "Because the scaling in this figure is severely adjusted by a few countries with a very high area, we might want to put a filter on this to not show these countries in the figure:"
      ]
    },
    {
      "cell_type": "code",
      "metadata": {
        "id": "WGFaK-7fc0OX",
        "colab_type": "code",
        "colab": {
          "base_uri": "https://localhost:8080/",
          "height": 294
        },
        "outputId": "560b3966-1e24-4a23-b8e4-bc379e0280da"
      },
      "source": [
        "df_population[df_population['area'] < 0.5e7]['area'].plot(kind = 'hist', bins = 30)"
      ],
      "execution_count": null,
      "outputs": [
        {
          "output_type": "execute_result",
          "data": {
            "text/plain": [
              "<matplotlib.axes._subplots.AxesSubplot at 0x7fbbd09ecd68>"
            ]
          },
          "metadata": {
            "tags": []
          },
          "execution_count": 34
        },
        {
          "output_type": "display_data",
          "data": {
            "image/png": "[encoded data removed]",
            "text/plain": [
              "<Figure size 432x288 with 1 Axes>"
            ]
          },
          "metadata": {
            "tags": [],
            "needs_background": "light"
          }
        }
      ]
    }
  ]
}